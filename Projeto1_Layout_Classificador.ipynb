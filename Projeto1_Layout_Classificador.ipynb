{
 "cells": [
  {
   "cell_type": "markdown",
   "metadata": {},
   "source": [
    "# Projeto 1 - Ciência dos Dados"
   ]
  },
  {
   "cell_type": "markdown",
   "metadata": {},
   "source": [
    "Nome: Adney Costa Moura\n",
    "\n",
    "Nome: Lister Ogusuku Ribeiro"
   ]
  },
  {
   "cell_type": "markdown",
   "metadata": {},
   "source": [
    "Atenção: Serão permitidos grupos de três pessoas, mas com uma rubrica mais exigente. Grupos deste tamanho precisarão fazer um questionário de avaliação de trabalho em equipe"
   ]
  },
  {
   "cell_type": "markdown",
   "metadata": {},
   "source": [
    "___\n",
    "Carregando algumas bibliotecas:"
   ]
  },
  {
   "cell_type": "code",
   "execution_count": 1,
   "metadata": {},
   "outputs": [],
   "source": [
    "%matplotlib inline\n",
    "import pandas as pd\n",
    "import matplotlib.pyplot as plt\n",
    "import numpy as np\n",
    "import os"
   ]
  },
  {
   "cell_type": "code",
   "execution_count": 2,
   "metadata": {
    "scrolled": false
   },
   "outputs": [
    {
     "name": "stdout",
     "output_type": "stream",
     "text": [
      "Esperamos trabalhar no diretório\n",
      "C:\\Users\\adney\\OneDrive - Insper - Institudo de Ensino e Pesquisa\\Documentos\\2° semestre - Insper\\Ciência dos Dados\\ProjetoCdados_AdneyLister\n"
     ]
    }
   ],
   "source": [
    "print('Esperamos trabalhar no diretório')\n",
    "print(os.getcwd())"
   ]
  },
  {
   "cell_type": "markdown",
   "metadata": {},
   "source": [
    "Carregando a base de dados com os tweets classificados como relevantes e não relevantes:"
   ]
  },
  {
   "cell_type": "code",
   "execution_count": 3,
   "metadata": {},
   "outputs": [],
   "source": [
    "filename = 'nubank.xlsx'"
   ]
  },
  {
   "cell_type": "code",
   "execution_count": 4,
   "metadata": {},
   "outputs": [
    {
     "data": {
      "text/html": [
       "<div>\n",
       "<style scoped>\n",
       "    .dataframe tbody tr th:only-of-type {\n",
       "        vertical-align: middle;\n",
       "    }\n",
       "\n",
       "    .dataframe tbody tr th {\n",
       "        vertical-align: top;\n",
       "    }\n",
       "\n",
       "    .dataframe thead th {\n",
       "        text-align: right;\n",
       "    }\n",
       "</style>\n",
       "<table border=\"1\" class=\"dataframe\">\n",
       "  <thead>\n",
       "    <tr style=\"text-align: right;\">\n",
       "      <th></th>\n",
       "      <th>Treinamento</th>\n",
       "      <th>Relevância</th>\n",
       "    </tr>\n",
       "  </thead>\n",
       "  <tbody>\n",
       "    <tr>\n",
       "      <th>0</th>\n",
       "      <td>@nubank você me ilude tão bem 🤩🤩🤩</td>\n",
       "      <td>0</td>\n",
       "    </tr>\n",
       "    <tr>\n",
       "      <th>1</th>\n",
       "      <td>vou ter que fazer parcelamento da parcela, eu ...</td>\n",
       "      <td>0</td>\n",
       "    </tr>\n",
       "    <tr>\n",
       "      <th>2</th>\n",
       "      <td>@hs_ramao @nubank aumentaram o meu e eu nem us...</td>\n",
       "      <td>1</td>\n",
       "    </tr>\n",
       "    <tr>\n",
       "      <th>3</th>\n",
       "      <td>hoje eu mal acordei e tava pegando ônibus o re...</td>\n",
       "      <td>0</td>\n",
       "    </tr>\n",
       "    <tr>\n",
       "      <th>4</th>\n",
       "      <td>🤣🤣🤣 @nubank vamos amigar https://t.co/7k6syhkxf0</td>\n",
       "      <td>0</td>\n",
       "    </tr>\n",
       "  </tbody>\n",
       "</table>\n",
       "</div>"
      ],
      "text/plain": [
       "                                         Treinamento  Relevância\n",
       "0                  @nubank você me ilude tão bem 🤩🤩🤩           0\n",
       "1  vou ter que fazer parcelamento da parcela, eu ...           0\n",
       "2  @hs_ramao @nubank aumentaram o meu e eu nem us...           1\n",
       "3  hoje eu mal acordei e tava pegando ônibus o re...           0\n",
       "4   🤣🤣🤣 @nubank vamos amigar https://t.co/7k6syhkxf0           0"
      ]
     },
     "execution_count": 4,
     "metadata": {},
     "output_type": "execute_result"
    }
   ],
   "source": [
    "train = pd.read_excel(filename)\n",
    "train.head(5)"
   ]
  },
  {
   "cell_type": "code",
   "execution_count": 5,
   "metadata": {
    "scrolled": true
   },
   "outputs": [
    {
     "data": {
      "text/html": [
       "<div>\n",
       "<style scoped>\n",
       "    .dataframe tbody tr th:only-of-type {\n",
       "        vertical-align: middle;\n",
       "    }\n",
       "\n",
       "    .dataframe tbody tr th {\n",
       "        vertical-align: top;\n",
       "    }\n",
       "\n",
       "    .dataframe thead th {\n",
       "        text-align: right;\n",
       "    }\n",
       "</style>\n",
       "<table border=\"1\" class=\"dataframe\">\n",
       "  <thead>\n",
       "    <tr style=\"text-align: right;\">\n",
       "      <th></th>\n",
       "      <th>Teste</th>\n",
       "      <th>Relevância</th>\n",
       "    </tr>\n",
       "  </thead>\n",
       "  <tbody>\n",
       "    <tr>\n",
       "      <th>0</th>\n",
       "      <td>@ogustamlk gu, obrigado por nos avisar sobre i...</td>\n",
       "      <td>0</td>\n",
       "    </tr>\n",
       "    <tr>\n",
       "      <th>1</th>\n",
       "      <td>@nubank nubank libera logo meu cartao de crédi...</td>\n",
       "      <td>1</td>\n",
       "    </tr>\n",
       "    <tr>\n",
       "      <th>2</th>\n",
       "      <td>nubank foi o melhor cartão que eu já fiz até h...</td>\n",
       "      <td>1</td>\n",
       "    </tr>\n",
       "    <tr>\n",
       "      <th>3</th>\n",
       "      <td>@nubank quer casar cmg?</td>\n",
       "      <td>0</td>\n",
       "    </tr>\n",
       "    <tr>\n",
       "      <th>4</th>\n",
       "      <td>aeeee carai, nubank aceitou meu crédito :3</td>\n",
       "      <td>1</td>\n",
       "    </tr>\n",
       "  </tbody>\n",
       "</table>\n",
       "</div>"
      ],
      "text/plain": [
       "                                               Teste  Relevância\n",
       "0  @ogustamlk gu, obrigado por nos avisar sobre i...           0\n",
       "1  @nubank nubank libera logo meu cartao de crédi...           1\n",
       "2  nubank foi o melhor cartão que eu já fiz até h...           1\n",
       "3                            @nubank quer casar cmg?           0\n",
       "4         aeeee carai, nubank aceitou meu crédito :3           1"
      ]
     },
     "execution_count": 5,
     "metadata": {},
     "output_type": "execute_result"
    }
   ],
   "source": [
    "test = pd.read_excel(filename, sheet_name = 'Teste')\n",
    "test.head(5)"
   ]
  },
  {
   "cell_type": "markdown",
   "metadata": {},
   "source": [
    "___\n",
    "## Classificador automático de sentimento\n"
   ]
  },
  {
   "cell_type": "markdown",
   "metadata": {},
   "source": [
    "Faça aqui uma descrição do seu produto e o que considerou como relevante ou não relevante na classificação dos tweets.\n",
    "\n",
    "Nosso produto foi a startup de serviços financeiros Nubank. Consideramos como relevante as operações que envolvem o limite de crédito, interação com o cliente e reclamações."
   ]
  },
  {
   "cell_type": "markdown",
   "metadata": {},
   "source": [
    "___\n",
    "### Montando um Classificador Naive-Bayes\n",
    "\n",
    "Considerando apenas as mensagens da planilha Treinamento, ensine  seu classificador."
   ]
  },
  {
   "cell_type": "code",
   "execution_count": 6,
   "metadata": {},
   "outputs": [],
   "source": [
    "# https://docs.python.org/3/library/re.html#\n",
    "import re \n",
    "\n",
    "\n",
    "def cleanup(text):\n",
    "    \"\"\"\n",
    "        Função de limpeza muito simples que troca alguns sinais básicos por espaços\n",
    "    \"\"\"\n",
    "    #import string\n",
    "    punctuation = '[!-.:?;]' # Note que os sinais [] são delimitadores de um conjunto.\n",
    "    pattern = re.compile(punctuation)\n",
    "    text_subbed = re.sub(pattern, '', text)\n",
    "    return text_subbed"
   ]
  },
  {
   "cell_type": "code",
   "execution_count": 7,
   "metadata": {},
   "outputs": [],
   "source": [
    "# Separando cada row do data frame, fazendo um split das palavras e limpando cada frase. Além disso foi filtrado cada row\n",
    "# as listas de relevância.\n",
    "lista_relevante = []\n",
    "lista_irrelevante = []\n",
    "\n",
    "for i in range(0,500):\n",
    "    # Separando os rows do DataFrame\n",
    "    x = cleanup(train.Treinamento[i]).lower().split()\n",
    " \n",
    "    if train.iloc[i,1] == 1:\n",
    "        j = 0\n",
    "        while j < len(x):\n",
    "            lista_relevante.append(x[j])\n",
    "            j+=1\n",
    "        \n",
    "    else:\n",
    "        k = 0\n",
    "        while k < len(x):\n",
    "            lista_irrelevante.append(x[k])\n",
    "            k+=1"
   ]
  },
  {
   "cell_type": "markdown",
   "metadata": {},
   "source": [
    "# Separando os tweets relevantes, irrelevantes e totais"
   ]
  },
  {
   "cell_type": "markdown",
   "metadata": {},
   "source": [
    "### Tweets Relevantes"
   ]
  },
  {
   "cell_type": "code",
   "execution_count": 8,
   "metadata": {
    "scrolled": true
   },
   "outputs": [
    {
     "data": {
      "text/plain": [
       "0     @hs_ramao\n",
       "1       @nubank\n",
       "2    aumentaram\n",
       "3             o\n",
       "4           meu\n",
       "dtype: object"
      ]
     },
     "execution_count": 8,
     "metadata": {},
     "output_type": "execute_result"
    }
   ],
   "source": [
    "# Guardando as palavras como um pd.Series\n",
    "serie_relevante = pd.Series(lista_relevante)\n",
    "serie_relevante.head()"
   ]
  },
  {
   "cell_type": "markdown",
   "metadata": {},
   "source": [
    "##### Frequências Absolutas"
   ]
  },
  {
   "cell_type": "code",
   "execution_count": 9,
   "metadata": {
    "scrolled": false
   },
   "outputs": [
    {
     "data": {
      "text/plain": [
       "@nubank     135\n",
       "o           117\n",
       "nubank       97\n",
       "de           95\n",
       "meu          94\n",
       "           ... \n",
       "liberam       1\n",
       "dê            1\n",
       "compra        1\n",
       "muitoooo      1\n",
       "/¯\\           1\n",
       "Length: 1091, dtype: int64"
      ]
     },
     "execution_count": 9,
     "metadata": {},
     "output_type": "execute_result"
    }
   ],
   "source": [
    "tabela_relevante_absoluta = serie_relevante.value_counts()\n",
    "tabela_relevante_absoluta"
   ]
  },
  {
   "cell_type": "markdown",
   "metadata": {},
   "source": [
    "### Tweets Irrelevantes"
   ]
  },
  {
   "cell_type": "code",
   "execution_count": 10,
   "metadata": {},
   "outputs": [
    {
     "data": {
      "text/plain": [
       "0    @nubank\n",
       "1       você\n",
       "2         me\n",
       "3      ilude\n",
       "4        tão\n",
       "dtype: object"
      ]
     },
     "execution_count": 10,
     "metadata": {},
     "output_type": "execute_result"
    }
   ],
   "source": [
    "# Guardando as palavras como um pd.Series\n",
    "serie_irrelevante = pd.Series(lista_irrelevante)\n",
    "serie_irrelevante.head()"
   ]
  },
  {
   "cell_type": "markdown",
   "metadata": {},
   "source": [
    "##### Frequências Absolutas"
   ]
  },
  {
   "cell_type": "code",
   "execution_count": 11,
   "metadata": {},
   "outputs": [
    {
     "data": {
      "text/plain": [
       "de              132\n",
       "@nubank         125\n",
       "o               116\n",
       "que             109\n",
       "a               106\n",
       "               ... \n",
       "leticia           1\n",
       "estaremos         1\n",
       "parcelamento      1\n",
       "pede              1\n",
       "@porragabeee      1\n",
       "Length: 1780, dtype: int64"
      ]
     },
     "execution_count": 11,
     "metadata": {},
     "output_type": "execute_result"
    }
   ],
   "source": [
    "tabela_irrelevante_absoluta = serie_irrelevante.value_counts()\n",
    "tabela_irrelevante_absoluta"
   ]
  },
  {
   "cell_type": "markdown",
   "metadata": {},
   "source": [
    "### Tweets Totais"
   ]
  },
  {
   "cell_type": "code",
   "execution_count": 12,
   "metadata": {},
   "outputs": [],
   "source": [
    "total = lista_relevante + lista_irrelevante"
   ]
  },
  {
   "cell_type": "code",
   "execution_count": 13,
   "metadata": {},
   "outputs": [],
   "source": [
    "total_series = pd.Series(total)"
   ]
  },
  {
   "cell_type": "markdown",
   "metadata": {},
   "source": [
    "##### Frequências Absolutas"
   ]
  },
  {
   "cell_type": "code",
   "execution_count": 14,
   "metadata": {
    "scrolled": true
   },
   "outputs": [
    {
     "data": {
      "text/plain": [
       "@nubank                  260\n",
       "o                        233\n",
       "de                       227\n",
       "nubank                   191\n",
       "que                      166\n",
       "                        ... \n",
       "https//tco/fzi06w6goh      1\n",
       "ahhh                       1\n",
       "modalidade                 1\n",
       "parceiro                   1\n",
       "@fabiorlive                1\n",
       "Length: 2392, dtype: int64"
      ]
     },
     "execution_count": 14,
     "metadata": {},
     "output_type": "execute_result"
    }
   ],
   "source": [
    "tabela_total = total_series.value_counts()\n",
    "tabela_total"
   ]
  },
  {
   "cell_type": "markdown",
   "metadata": {},
   "source": [
    "___\n",
    "### Verificando a performance do Classificador\n",
    "\n",
    "Agora você deve testar o seu classificador com a base de Testes."
   ]
  },
  {
   "cell_type": "code",
   "execution_count": 15,
   "metadata": {},
   "outputs": [
    {
     "name": "stdout",
     "output_type": "stream",
     "text": [
      "[['@ogustamlk', 'gu', 'obrigado', 'por', 'nos', 'avisar', 'sobre', 'isso', 'como', 'não', 'podemos', 'passar', 'informações', 'sobre', 'outros', 'clientes', 'poderia', 'nos', 'chamar', 'na', 'dm', 'precisamos', 'de', 'alguns', 'dados', 'que', 'estão', 'no', 'cartão', 'pra', 'agirmos', 'mais', 'rapidamente', '😉'], ['@nubank', 'nubank', 'libera', 'logo', 'meu', 'cartao', 'de', 'crédito', 'faz', 'tempo', 'que', 'peço', 'e', 'nada', 'https//tco/qd0rbmlcdl'], ['nubank', 'foi', 'o', 'melhor', 'cartão', 'que', 'eu', 'já', 'fiz', 'até', 'hoje', 'não', 'me', 'dá', 'dor', 'de', 'cabeça', 'com', 'nada'], ['@nubank', 'quer', 'casar', 'cmg'], ['aeeee', 'carai', 'nubank', 'aceitou', 'meu', 'crédito', '3'], ['@gabeleirbag', 'haha', 'como', 'diz', 'a', 'música', 'da', 'tay', 'past', 'the', 'blood', 'and', 'bruise', 'past', 'the', 'curses', 'and', 'cries', 'o', 'aumento', 'de', 'limite', 'sempre', 'vem', 'felicidade', '💜😉', 'https//tco/gygeld1gcx'], ['@nubank', '@nubank', 'todos', 'esses', 'procedimentos', 'não', 'funcionaram', 'a', 'equipe', 'foi', 'atenciosa', 'pela', 'chat', 'pelo', '0800', 'mas', 'não', 'obtive', 'resultado', 'continuo', 'rezando'], ['@_______jhony', '@fercorsato', '@nubank', 'deve', 'ser', 'itaú', 'ja', 'me', 'ofereceram', 'aumento', 'na', 'época', 'que', 'eu', 'trabalhava', 'numa', 'empresa', 'e', 'a', 'conta', 'era', 'de', 'la'], ['@nubank', 'ja', 'pedi', 'um', 'monte', 'e', 'nada', '😭'], ['@malvados', 'oi', 'gente', 'eu', 'continuo', 'precisando', 'd', 'doações', 'pra', 'comprar', 'ração', 'para', 'gatos', 'q', 'eu', 'resgatei', 'e', 'crio', 'em', 'minha', 'casa', 'muitas', 'pessoas', 'ajudaram', 'cmo', 'deu♥️🙏', 'ainda', 'tô', 'precisando', 'por', 'favor', 'quem', 'puder', 'e', 'quiser', 'ajudar', 'picpaypix', '87988110417', '🙏', 'pix', 'nubank', 'meusanjos222@gmailcom', 'https//tco/9zbnmcndeb'], ['@nubank', 'já', 'tem', '1', 'ano', 'esperando', 'aumentarem', 'meu', 'limite', 'mesmo', 'usando', 'bastante', 'crédito', 'e', 'pagando', 'tudo', 'em', 'dia', 'e', 'as', 'vezes', 'até', 'antecipado', '😔'], ['@nubank', 'tá', 'né'], ['dps', 'de', 'anos', 'o', 'nubank', 'me', 'manda', 'um', 'cartão', 'com', '50', 'reais', 'de', 'limite'], ['@negalindaa1', 'por', 'aqui', 'nós', 'não', 'conseguimos', 'verificar', 'isso', 'pra', 'você', 'então', 'pedimos', 'que', 'entre', 'em', 'contato', 'pelo', '0800', '608', '6236', 'tá', 'bom'], ['@tivor_', '@nubank', 'sim', 'ai', 'o', 'cartão', 'precisa', 'de', 'uma', 'fonte', 'e', 'um', 'rastreador', 'e', 'além', 'de', 'ocupar', 'um', 'volume', 'maior', 'na', 'carteira', 'só', 'poderia', 'ser', 'usado', 'em', 'máquinas', 'sem', 'contato', 'já', 'que', 'não', 'caberia', 'no', 'local', 'de', 'inserir', 'o', 'cartão', 'rsrsrs'], ['@manuelajeane', '@junqueira_cris', 'comenta', 'chefinha', '👀'], ['@ricandrademc', '@imaginecurve', 'tenho', 'quase', 'todos', 'os', 'meus', 'cartões', 'no', 'apple', 'pay', 'exceto', '@meudigio', 'e', '@nubank', 'o', 'que', 'já', 'me', 'resolve', 'porém', 'gosto', 'de', 'ter', 'pelo', 'menos', '2', 'um', 'visa', 'e', 'um', 'mastercard', 'na', 'carteira', 'pro', 'raríssimo', 'caso', 'de', 'não', 'aceitarem', 'pagamentos', 'por', 'aproximação', 'ou', 'pro', 'mais', 'comum', 'a', 'máquina', 'de', 'cartão', 'dar', 'erro', 'https//tco/nqcssvprfj'], ['@caosfanboy', '@nubank', 'só', 'se', 'vive', 'uma', 'vez'], ['@nubank', 'a', 'autônoma', 'aqui', 'movimenta', 'a', 'conta', 'todo', 'mes', 'e', 'nada', 'de', '1', 'cartãozinho', 'de', 'crédito', 'cliente', 'a', 'mais', 'de', '2', 'anosdificil', 'hein'], ['@nubank', 'faz', 'teus', 'corres', 'parça'], ['nunca', 'ganhei', 'mimo', 'na', 'nubank', 'e', 'ja', 'faz', 'anos', 'que', 'uso', '\\U0001f972😪', 'https//tco/tbnl5tuva8'], ['@jcasluu', 'o', 'nubank', 'tbm', 'precisa', 'querer', 'né', 'amg'], ['@black__1969', 'vamos', 'ficar', 'na', 'torcida', 'para', 'que', 'o', 'seu', 'aumento', 'de', 'limite', 'venha', 'mais', 'rápido', 'que', 'charger', 'r/t', 'do', 'toretto', 'https//tco/by1rc57duj'], ['@nubank', 'aumenta', 'meu', 'limite', 'pfv', 'nu😟'], ['não', 'sei', 'pra', 'que', 'eu', 'quero', 'aumentar', 'meu', 'limite', 'da', 'nubank', 'se', 'o', 'limite', 'que', 'eu', 'tenho', 'já', 'é', 'mais', 'auto', 'que', 'meu', 'salário'], ['@nubank', 'era', 'só', 'liberando', 'o', 'limite', 'hein', 'movimento', 'a', 'conta', 'diretão'], ['@yuri_darvin', 'ficamos', 'preocupados', 'com', 'a', 'sua', 'mensagem', 'chama', 'a', 'gente', 'no', 'chat', 'do', 'aplicativo', 'e', 'explica', 'melhor', 'o', 'que', 'aconteceu'], ['@dicadehoje7', '@zattarrafael', 'li', 'em', 'algum', 'lugar', 'q', 'o', 'prejuízo', 'ao', 'nubank', 'hj', 'é', 'opcional', 'eles', 'optaram', 'pela', 'expanssão', 'em', 'detrimento', 'ao', 'lucro', 'pq', 'pensam', 'que', 'tem', 'muito', 'espaço', 'ainda'], ['@waldecyr_santos', '@nubank', '@fwmo', '@tivor_', 'a', 'carga', 'seria', 'bem', 'curta', 'bateria', 'pra', 'isso', 'eh', 'pouca', 'coisa', 'e', 'dura', 'muito', 'além', 'disso', 'acho', 'que', 'quando', 'colocar', 'o', 'cartão', 'na', 'maquininha', 'já', 'vai', 'dar', 'carga', 'o', 'suficiente'], ['@nubank', 'vai', 'me', 'mandar', 'um', 'cartão', 'platinum', 'https//tco/d4erdgncvz'], ['@nubank', 'a', 'vcs', 'já', 'tão', 'convidados', 'junto', 'com', 'a', 'nana'], ['@renataa94570590', '@nubank', 'eu', 'também', 'por', 'isso', 'adoro', 'meu', 'roxinho', 'e', 'indico', 'prazamigas'], ['ultimamente', 'tô', 'com', 'uma', 'vontadinha', 'de', 'trabalhar', 'no', '@nubank', 'pode', 'ser', 'como', 'analista', 'de', 'dados', 'pode', 'ser', 'como', 'po', 'pode', 'ser', 'na', 'limpeza', 'também'], ['@nubank', 'pedi', 'o', 'nu', 'e', 'um', 'samsung', 'adivinha', 'quem', 'me', 'liberou', 'um', 'baita', 'limite'], ['@nubank', 'mano', 'o', 'social', 'media', 'é', 'demais', 'hahahahahahahha'], ['@nubank', '@arara_', 'esse', 'aí', 'é', 'netflix', 'meu', 'amigo', 'kkkkkk'], ['ativando', 'o', 'débito', 'automático', 'ganha', 'cashback', 'ao', 'pagar', 'a', 'fatura', 'do', 'cartão', 'de', 'crédito', 'cartão', 'de', 'crédito', 'esse', 'que', 'tem', 'a', 'opção', 'de', 'você', 'investir', 'qualquer', 'quantia', 'com', 'rendimento', '100', 'cdb', 'é', 'transformado', 'em', 'limite', 'no', 'cartão', 'de', 'crédito', 'sério', 'banco', 'inter', 'esmurra', 'nubank', 'sem', 'dó'], ['nubank', 'aumentou', '100', 'no', 'limite', 'do', 'meu', 'cartão'], ['@lucasccipriano', 'feliz', 'aniversário', 'lucas', '🎂🎉', 'adoraríamos', 'te', 'presentear', 'com', 'esse', 'mimo', 'mas', 'por', 'aqui', 'não', 'influenciamos', 'sabe', 'mas', 'não', 'deixa', 'de', 'pedir', 'no', 'app', 'que', 'vamos', 'ficar', 'na', 'torcida', '💜', 'https//tco/scdn5gdu5g'], ['@nubank', 'vocês', 'são', 'os', 'melhores'], ['dps', 'q', 'alguém', 'tentou', 'me', 'roubar', 'eu', 'troquei', 'meu', 'cartão', 'do', 'santander', 'e', 'chegou', 'rapidinho', 'esse', 'novo', 'agora', 'o', 'da', 'nubank', 'nem', 'sinal', 'de', 'vida'], ['@portalrbd', '@rbd_oficial', '@bancodobrasil', '@nubank', 'faz', 'o', 'meu', 'assim', 'nunca', 'pedi', 'nada', '🥺🥺🥺🥺'], ['@pqpravena', 'poxa', 'lua', 'a', 'gente', 'até', 'queria', 'porem', 'por', 'aqui', 'nós', 'não', 'conseguimos', 'mas', 'estamos', 'torcendo', 'para', 'que', 'você', 'consiga', '💜', 'https//tco/hggmpysrqx'], ['@yuri_darvin', 'poxa', 'essa', 'não', 'é', 'a', 'experiência', 'que', 'queremos', 'que', 'você', 'tenha', 'o', 'que', 'houve'], ['chegou', 'meu', 'nubank', 'agora', 'o', 'pai', 'ta', 'enjoado', 'fml', 'kkkk'], ['@nubank', 'não', 'chamaaaaa'], ['to', 'precisando', 'muito', 'fazer', 'um', 'cartão', 'pra', 'mim', 'vou', 'ver', 'legal', 'esse', 'da', 'nubank'], ['@mariodiass', '@nubank', 'bah', 'valeu', 'meu', 'vou', 'fazer', 'essa', 'mão'], ['@nubank', 'desistifoi', 'bom', 'enquanto', 'durou', 'pegando', 'meus', 'trocados', 'guardad9e', 'cancelando😞'], ['acabaram', 'de', 'passa', 'meu', 'cartão', 'em', 'um', 'lugar', 'q', 'eu', 'n', 'faço', 'ideia', 'onde', 'seja', 'meu', 'deus', 'nubank', 'bloqueia', 'tudo', 'não', 'posso', 'ter', 'cartão', 'clonado'], ['@hiantares', 'put', 'merda', 'hein', 'bb', 'bradesco', 'caixa', 'sicoob', 'entao', 'itau', 'te', 'amo', 'nubank', 'n', 'uso', 'mas', 'é', 'regra', 'mesmo', 'ódio'], ['meu', 'nubank', 'chegou', 'me', 'sinto', 'muito', 'chic', 'porém', 'minha', 'conta', 'tem', '0', 'reais', 'o', 'que', 'não', 'eh', 'tão', 'chic', 'mas', 'você', 'pode', 'me', 'mandar', 'um', 'pix', 'que', 'aí', 'sim', 'seria', 'chic'], ['@supergrli', 'oh', 'ajuda', 'a', 'gente', 'ai', 'xuliette', 'usa', 'muito', 'o', 'seu', 'roxinho', 'que', 'logo', 'o', 'aumento', 'vem💜'], ['eu', 'tive', 'que', 'fazer', 'outro', 'cartão', 'de', 'crédito', 'porque', 'queria', 'comprar', 'uma', 'coisa', 'e', 'meu', 'limite', 'da', '@nubank', 'não', 'dava', 'agora', 'tô', 'aqui', 'pagando', 'anuidade', 'do', 'outro', 'cartão', 'oh', 'vida', '😩'], ['mano', 'alguém', 'sabe', 'se', 'nubank', 'é', 'melhor', 'q', 'o', 'inter', 'ou', 'ele', 'é', 'melhor', 'tô', 'em', 'dúvida', 'em', 'qual', 'abro', 'conta'], ['@nubank', 'ah', 'entendi', 'iria', 'pagar', 'antecipado', 'mesmo', 'o', 'bonny', 'e', 'lessy', 'agradecem', 'os', 'beijos', 'e', 'mandam', 'muitos', 'lambeijos', 'p', 'vcs', '💜😍', 'e', 'pedem', 'desculpas', 'por', 'já', 'terem', 'destruídos', '2', 'cartões', 'nubank', 'já', '🙄🤭', 'olha', 'a', 'cara', 'nem', 'aprontam', 'https//tco/lwbes93hx8'], ['@nubank', 'libera', 'limite', 'pra', 'minha', 'rtx', '@nubank', '🥺'], ['650', 'de', 'taxa', 'pra', 'fazer', 'saque', 'da', 'nubank', 'os', 'cara', 'só', 'sabem', 'roer', 'pqp'], ['quando', 'chega', 'meu', 'roxinho', 'muito', 'chique😍🥰', '@nubank', 'https//tco/xehe5l6wqf'], ['alguém', 'sabe', 'como', 'sacar', 'esse', 'dinheiro', 'que', 'fica', 'aqui', 'no', 'nubank', 'https//tco/koif8w2pb9'], ['@eumurilope', '@nubank', 'eu', 'nessa', 'smp'], ['@fritzsep', 'ai', 'já', 'é', 'presente', 'de', 'natal', 'hein', 'fritz', 'em', 'dezembro', 'a', 'gente', 'pensa', 'nisso'], ['fizeram', 'uma', 'compra', 'de', 'r', '002', 'centavos', 'no', 'meu', 'nubank', 'é', 'mole'], ['@nubank', 'por', 'favor', 'reduz', 'o', 'meu', 'eu', 'n', 'aguento', 'mais', 'gastar', 'oq', 'eu', 'n', 'posso', 'pagar'], ['@nubank', 'bom', 'sem', 'spoilers', 'o', 'que', 'achei', 'que', 'quatro', 'horas', 'é', 'pouco', 'passou', 'voando', 'quero', 'mais', '🤩', 'restorethesnyderverse', 'snydercut', 'zacksnydersjusticeleague'], ['nubank', 'pelo', 'amor', 'de', 'deus', 'não', 'tem', 'um', 'canal', 'de', 'atendimento', 'que', 'preste'], ['é', 'nubank', 'não', 'foi', 'dessa', 'vez', 'que', 'você', 'sujou', 'o', 'meu', 'nome'], ['@dornelestg84', '@nubank', 'troquei', 'nubank', 'por', 'ele', 'bem', 'mais', 'completo', 'e', 'com', 'mais', 'benefícios'], ['@nubank', 'um', 'aumento', 'no', 'meu', 'limite', 'seria', 'uma', 'boa', 'um', 'tempão', 'que', 'vcs', 'não', 'aumentam', '😞'], ['@nubank', 'abandonado', 'por', 'você', 'https//tco/hppeexhlvy'], ['@nubank', 'dá', 'um', 'emprego', 'pra', 'essa', 'pobre', 'camponesa', 'ilustradora', 'https//tco/xscevqdpdd'], ['@nubank', 'meu', 'limite', 'não', 'aumenta', 'há', '2', 'anos', 'eu', 'vou', 'cancelar', '🤬'], ['@cnnbrbusiness', '@cnnbrasil', 'o', '@nubank', 'mesmo', 'em', 'crise', 'ano', 'passado', 'no', 'inicio', 'da', 'pandemia', 'ajudou', 'os', 'mais', 'carentes', 'com', 'voucher', 'para', 'alimentação', 'e', 'outras', 'assistências', 'enquanto', 'os', 'mega', 'trilhonarios', 'como', '@itau', 'ofereçam', 'para', 'clientes', 'prazo', 'com', 'juros', 'nubank', 'merece', 'crescer', 'muito'], ['eram', '20', 'dólares', 'e', 'eu', 'como', 'pessoa', 'burraaaa', 'que', 'sou', 'quase', 'gastei', '118', 'reais', 'em', 'webtoon', 'minha', 'sorte', 'é', 'que', 'sou', 'pobre', 'desconfiada', 'e', 'nunca', 'deixo', 'meu', 'limite', 'do', 'nubank', 'mais', 'de', '70', 'reais', 'aí', 'a', 'compra', 'não', 'foi', 'aceita', 'https//tco/vg4iu2eutz'], ['@nubank', 'tô', 'a', 'uns', 'meses', 'sem', 'aumento', 'de', 'limite', 'tô', 'triste', 'com', 'vocês'], ['@nubank', 'aumenta', 'o', 'limite', 'a', 'uber', 'tá', 'implorando'], ['@polezam', 'que', 'bom', 'que', 'você', 'gostou', 'inclusive', 'se', 'você', 'precisar', 'de', 'alguma', 'coisa', 'é', 'só', 'chamar', 'a', 'gente', 'aqui', 'combinado', '💜'], ['@daniel_keppler', '@nubank', 'dia', '27', 'o', 'meu', 'kkk', 'as', 'lendas', 'nascem', 'em', 'março'], ['@nubank', 'melhor', 'banco', 'acho', 'que', 'acessaram', 'meu', 'cartão', 'virtual', 'bloquei', 'tudo', 'correndo', 'excluiu', 'o', 'cartão', 'virtual', 'e', 'reportei', 'as', 'compras', 'indevidas', 'e', 'a', 'nubank', 'já', 'resolveu', 'tudo', '🙏🏾', 'quase', 'desmaiei', 'agora', 'meu', 'deus', 'do', 'céu'], ['@nubank', 'aumenta', 'o', 'limite', 'que', 'eu', 'faço', 'o', 'seguro', 'de', 'vida', 'de', 'vocês', 'kkkkkkkk'], ['poxa', 'nubank', 'qq', 'custa', 'aumentar', 'meu', 'limite', 'pra', '10', 'milhões'], ['nubank', 'brinca', 'com', 'meu', 'coração', 'n', 'é', 'possível'], ['@nubank', 'qual', 'o', 'limite', 'de', 'vocês', 'tio', 'nu'], ['tô', 'feliz', 'que', 'só', 'pq', 'eu', 'não', 'vou', 'precisa', 'ir', 'na', 'lotérica', 'amanhã', 'pra', 'pagar', 'a', 'internet', 'pq', 'eu', 'fiz', 'o', 'pagamento', 'pelo', 'nubank', 'amooo'], ['so', 'ta', 'faltando', 'você', '@nubank', 'https//tco/zk24heih2i'], ['@nubank', '@nubank', 'me', 'manda', 'a', 'capinha', 'pro', 'cartão', 'de', 'colar', 'no', 'celular', 'e', 'eu', 'digo', 'se', 'esperava', 'ou', 'não'], ['@eikebatista', 'empresa', 'que', 'está', 'no', 'vermelho', 'desde', 'a', 'fundação', 'em', '2013', 'só', 'tinha', 'diminuído', 'o', 'prejuízo', 'em', '2017', 'mas', 'em', 'valores', 'bem', 'menores', 'à', 'época', 'o', 'resultado', 'negativo', 'caiu', 'de', 'r', '122', 'mil', 'para', 'r', '116', 'mil', 'segundo', 'o', 'comunicado', 'assinado', 'pelo', 'cfo', 'do', 'nubank', 'guilherme', 'lago', 'a', '2'], ['@thehenribeiro', '@nubank', 'henrique', 'qjsjwiskwi', 'ah', 'não'], ['@jmdrdaj', '@guarana', 'tudo', 'para', 'nós', '💜'], ['@annaflhira', '@c6bank', '@nubank', 'kkkkkkkkkkkkkkkkkkkk', 'morrendo', 'mlr', 'kkkkkkkkkk', 'essa', 'nubank', 'vea', 'só', 'serve', 'pra', 'debito', 'msm', 'lixo', 'total'], ['nubank', 'aumentou', 'meu', 'limite', 'pra', 'r', '1', 'mil', 'reais', '🥵'], ['venho', 'aqui', 'novamente', 'dizer', 'pra', 'vcs', 'não', 'acreditem', 'nesse', 'papo', 'de', 'empresa', 'jovem', 'e', 'inclusiva', 'do', '@nubank', 'atrasei', 'o', 'pagamento', 'da', 'fatura', 'em', '10hs', 'e', 'tão', 'me', 'cobrando', '12', 'de', 'juros', 'total', 'não', 'caiam', 'nessa', 'tá', 'pior', 'que', 'banco', 'tradicional'], ['@out_pex', 'com', 'essa', 'grana', 'dá', 'pra', 'fazer', 'muita', 'coisa', 'né', 'adoramos', 'as', 'suas', 'idéias', 'e', 'estamos', 'na', 'torcida', 'para', 'que', 'esse', 'dia', 'chegue', 'logo', 'e', 'não', 'esqueça', 'de', 'nos', 'enviar', 'o', 'convite', 'do', 'casamento', 'hein'], ['@nubank', 'mas', '40000', 'eu', 'nem', 'considero', 'limite', 'é', 'tipo', 'a', 'tia', 'da', 'padaria', 'falando', '“deixa', 'assim', 'me', 'traz', 'amanhã', 'o', 'resto”'], ['@_suelengo', 'ha', 'quanto', 'tempo', 'tu', 'tem', 'o', 'nubank', 'bebê'], ['@nubank', 'o', 'limite', 'do', 'cartão', 'de', 'crédito', 'que', 'vocês', 'oferecem', 'é', 'ridículo'], ['@tironionda', 'kkkkkkkkkkk', 'menina', 'é', 'da', 'nubank', 'mas', 'deve', 'ser', 'a', 'movimentação', 'do', 'meu', 'cpf', 'do', 'nadaaaa'], ['nubank', 'aumenta', 'meu', 'limite', 'vai'], ['quando', 'eu', 'ia', 'começar', 'a', 'chorar', 'a', 'nubank', 'já', 'tinha', 'resolvido', 'deus', 'é', 'bom', '🙏🏾', 'vou', 'conseguir', 'assistir', 'minha', 'aula', 'em', 'paz'], ['fiz', 'a', 'carla', 'fazer', 'o', 'cartão', 'de', 'débito', 'da', 'nubank', 'kkkkkkkk', 'agora', 'tá', 'virando', 'gente', '🤭'], ['@wellingtontpi97', 'achaos', 'que', 'isso', 'te', 'responde', '😂', 'https//tco/0v1rrlnbr5', 'mas', 'óh', 'por', 'aqui', 'realmente', 'não', 'conseguimos', 'te', 'ajudar', 'com', 'isso', 'mas', 'pede', 'lá', 'no', 'app', 'é', 'rápido', 'e', 'a', 'resposta', 'é', 'na', 'hora', '💜'], ['@nubank', 'me', 'deu', 'um', 'cartão', 'com', 'o', 'limite', 'de', '00', 'reais', '🤡🤡🤡'], ['@nubank', 'kkkkkkkkkkkkkkkkkk', 'oremos', 'ah', 'já', 'reparei', 'que', 'chegou', 'no', 'google', 'pay', '😘'], ['@cicisafadaum', 'para', 'que', 'nosso', 'time', 'consiga', 'te', 'ajudar', 'com', 'a', 'sua', 'dúvida', 'nos', 'chame', 'no', 'chat', 'do', 'aplicativo', 'do', 'nubank', 'ou', 'então', 'nos', 'ligue', 'através', 'do', 'número', '08006086236', 'nesses', 'canais', 'estamos', 'disponíveis', '24h', 'para', 'te', 'auxiliar', 'com', 'qualquer', 'problema', 'ok', 'https//tco/x55onvp4wz'], ['as', 'pessoas', 'reclamando', 'q', 'o', 'nubank', 'não', 'aumenta', 'o', 'limite', 'delas', 'e', 'ele', 'aumenta', '1k', 'todo', 'mês', 'pra', 'mim', '🤡', 'eu', 'não', 'quero', 'inferno'], ['@nubank', '@nubank', 'porque', 'não', 'consigo', 'abrir', 'minha', 'conta', 'não', 'pedem', 'todos', 'meus', 'dados', 'só', 'coloca', 'meu', 'nome', 'e', 'meu', 'cpf', 'e', 'falam', 'que', 'vão', 'mandar', 'emaaaaailllllll'], ['@nubank', 'segundo', 'informações', 'internas', 'do', 'bc', 'sim', 'o', 'banco', 'pode', 'influenciar', 'no', 'seu', 'limite', 'de', 'crédito', 'se', 'ela', 'quiser', 'até', 'porque', 'nenhum', 'sistema', 'bancário', 'é', '100', 'autônomo'], ['@olhos_deressaca', 'nós', 'que', 'te', 'amamos', '💜', 'se', 'precisar', 'de', 'alguma', 'coisa', 'é', 'só', 'chamar', 'a', 'gente', 'combinado'], ['@santoroanderson', 'ahhh', 'é', 'na', 'base', 'da', 'chantagem', 'então', 'senhor', 'santoro', 'você', 'pode', 'correr', 'no', 'nosso', 'aplicativo', 'pedir', 'mais', 'limite', 'e', 'já', 'aproveitar', 'pra', 'dar', 'aquela', 'contratada', 'no', 'nubank', 'vida', 'de', 'uma', 'vez', 'só', 'que', 'tal', 'assim', 'então', 'https//tco/2xwuaeuyet'], ['@nubank', '@whatgomess', 'eu', 'nunca', 'entendi', 'meu', 'limite', 'que', 'começou', 'a', 'crescer', 'e', 'depois', 'dobrou', 'e', 'aí', 'então', 'nunca', 'mais', 'se', 'moveu', 'penso', 'que', 'talvez', 'morreu', 'haha', 'é', 'um', 'limite', 'exelente', 'já', 'me', 'ajudou', 'super', 'sério', 'nunca', 'consegui', 'metade', 'disso', 'em', 'banco', 'tradicional', 'mesmo', 'com', '12', 'anos', 'de', 'conta', '¬¬'], ['cartela', 'adesivos', 'bts', '•contém', '1', 'cartela', '16/12', 'cm', 'brindes', '💸valorr1500', 'frete', '💳formas', 'de', 'pagamento', 'depósito', 'transferência', 'nubank', 'mercado', 'pago', 'boletocom', 'taxa', 'de', 'r300', 'pic', 'pay', 'e', 'pix', '🚚enviamos', 'para', 'todo', 'o', 'brasil', 'https//tco/iogbdozcx8'], ['@annezonasanches', 'anne', 'libera', 'um', 'limite', 'ai', 'nubank', 'sim'], ['@nubank', 'libera', 'meu', 'limite', 'aí', 'nmrl'], ['@nubank', 'uma', 'pena', 'ne', 'roxinho', 'mas', 'te', 'amo', 'assim', 'mesmo'], ['@idaimaluc', 'hein', 'você', 'já', 'solicitou', 'pelo', 'app', 'é', 'muito', 'simples', 'e', 'a', 'resposta', 'sai', 'na', 'hora', 'vamos', 'ficar', 'na', 'torcida', '😉💜'], ['@hs_ramao', '@nubank', 'não', 'usa', 'tudo', 'e', 'ainda', 'quer', 'mais', 'kkkkkkkkk', 'vai', 'entender'], ['@leabdias', '@nubank', 'vip', 'só', 'pq', 'ganhei', 'mimos', 'duas', 'vezes'], ['@daniel_keppler', '@nubank', 'libera', 'o', 'limite', 'pra', 'ele', 'comprar', 'um', 'bolinho', 'e', 'dividir', 'com', 'nois'], ['@bannanniex', 'nubank', 'tenho', 'convite'], ['@vitinp10', 'é', 'foda', 'vou', 'ter', 'que', 'começar', 'receber', 'direto', 'no', 'nubank'], ['obrigado', 'pela', 'entrega', 'expressa', '@nubank', '♥️', 'https//tco/6kgv7yrzdc'], ['@nubank', 'só', 'queria', 'poder', 'parcelar', 'um', 'ps5', 'com', 'meu', 'rewards', 'hahaha'], ['@vitoliveira_', 'ele', 'tá', 'bom', 'mas', 'como', 'não', 'tem', 'cartão', 'eles', 'são', 'bem', 'chatos', 'pra', 'liberar', 'eu', 'comecei', 'com', '50', 'reais', 'na', 'nubank', 'kkkkk'], ['esperando', 'o', 'gremio', 'oficializar', 'que', 'virou', 'um', 'banco', 'digital', 'pra', 'mandar', 'o', 'nubank', 'pras', 'cucuias', 'https//tco/ndd1ln7znu'], ['oi', 'nunu', '@nubank', 'tudo', 'bem', 'gostaria', 'de', 'saber', 'quais', 'são', 'as', 'categorias', 'dos', 'cartões', 'de', 'créditos', 'que', 'vocês', 'possuem', 'pois', 'estou', 'pensando', 'seriamente', 'em', 'mudar', 'tudo', 'para', 'desde', 'investimentos', 'até', 'portabilidade', 'de', 'salário'], ['@nubank', 'não', 'brinca', 'com', 'nossos', 'corações', 'minha', 'flor', '😅🤯'], ['@akirariel', 'sentimos', 'muito', 'que', 'tenha', 'passado', 'por', 'isso', 'essa', 'não', 'é', 'a', 'experiência', 'que', 'queremos', 'oferecer', 'aos', 'nossos', 'clientes', 'vimos', 'que', 'você', 'deu', 'um', 'toque', 'pra', 'gente', 'na', 'dm', 'e', 'vamos', 'entender', 'melhor', 'seu', 'caso', 'por', 'lá', 'tá', 'bom'], ['@nubank', 'aumenta', 'meu', 'limite', 'e', 'eu', 'digo', 'se', 'esperava', 'ou', 'não'], ['fodase', 'nubank', 'do', 'caralho'], ['@nubank', 'e', 'se', 'depender', 'do', 'ademir', 'não', 'tem', 'limite', 'nenhum'], ['@nubank', 'ah', 'poder', 'conversar', 'com', 'o', 'gerente', 'o', 'aumento', 'do', 'seu', 'limite', 'é', 'a', 'única', 'coisa', 'que', 'sinto', 'falta', 'de', 'um', 'formato', 'de', 'banco', 'tradicional', 'a', 'final', 'nas', 'avaliações', 'um', 'algoritmo', 'nunca', 'superará', 'um', 'humano', 'se', 'esse', 'tiver', 'boa', 'vontade', 'né', 'kkkk', 'mas', 'no', 'mais', 'o', 'nu', 'é', 'perfeito'], ['@nubank', 'ah', 'fui', 'notado', 'haha', 'vamos', 'ver', '@nubank', 'vamos', 'ver', '🤣'], ['@nubank', 'é', 'exatamente', 'o', 'que', 'eu', 'preciso', 'agora', 'preciso', 'que', 'vocês', 'coloquem', 'a', 'opção', 'disponível', 'pra', 'mim', '🤣😂🤣😂', 'não', 'adianta', 'nada', 'você', 'me', 'mostrar', 'isso', 'e', 'eu', 'não', 'poder', 'usar'], ['sempre', 'fui', 'do', 'banco', 'inter', 'mas', 'hoje', 'não', 'estava', 'conseguindo', 'fazer', 'uma', 'coisa', 'com', 'cartão/conta', 'de', 'lá', 'e', 'consegui', 'fazer', 'pela', 'nubank', 'tô', 'me', 'sentindo', 'tipo', 'o', 'rabicho', 'um', 'dos', 'maiores', 'traidores', 'da', 'história'], ['@nubank', 'tô', 'desde', 'dezembro', 'esperando', 'os', 'adesivinhos', 'de', 'mimo', 'que', 'vcs', 'iam', 'me', 'mandar', 'ate', 'hj', 'nunca', 'chegou', '😔😞', 'relacionamento', 'tóxico', 'vcs', 'só', 'iludem'], ['cada', 'vez', 'que', 'eu', 'paro', 'em', 'um', 'site', 'eu', 'penso', 'pq', 'choras', 'nubank', 'https//tco/ivqruziutw'], ['lembrei', 'aqui', 'que', 'eu', 'via', 'todo', 'mundo', 'morrendo', 'pra', 'ter', 'cartao', 'da', 'nubank', 'usando', 'conta', 'e', 'eles', 'dando', '50', 'reais', 'de', 'limite', 'e', 'eu', 'nunca', 'usei', 'e', 'eles', 'me', 'ofereceram', 'um', 'cartao', 'de', '700', 'reais', 'de', 'limite'], ['abri', 'uma', 'conta', 'na', 'nubank', 'alguem', 'faz', 'um', 'pix', 'p', 'mim', 'ai', 'saber', 'se', 'ta', 'funcionando'], ['@nubank', '@paypal_br', 'sim', 'acabei', 'de', 'bloquear', 'e', 'já', 'estou', 'no', 'chat', '💜'], ['@nubank', 'pq', 'vc', 'nao', 'aprovou', 'meu', 'cartao', 'de', 'crédito', 'poxa', 'eu', 'sou', 'a', 'pessoa', 'menos', 'caloteira', 'q', 'eu', 'conheço'], ['@nubank', 'perfeitos', '💜'], ['@nubank', '@jessynadylla', 'tem', 'canal', 'no', 'youtube', 'ou', 'só', 'blog'], ['@nubank', '1', 'ano', 'esperando', 'meu', 'aumento', 'de', 'limite', 'ja', 'fiz', 'tudo', 'que', 'pedem', 'mas', 'nunca', 'aceitam', 'olha', 'eu', 'sei', 'que', 'não', 'sou', 'um', 'bom', 'cliente', 'eu', 'pago', 'tudo', 'antecipado', 'mas', 'me', 'da', 'mais', 'limite', 'ai'], ['@nubank', 'nu', 'vc', 'esta', 'bem', 'https//tco/klsmubngsu'], ['@nubank', 'muito', 'obrigado'], ['@nubank', '50', 'reais', 'de', 'limite', 'fala', 'sério', 'por', 'isso', 'mudei', 'pro', 'c6', 'bank'], ['@cherrykah', 'nubank', 'e', 'c6'], ['@nerdiiihahah', '@brazuca_san', '@ae_saettr', '@dailyhachikuji', 'tem', 'banco', 'q', 'é', 'possível', 'personalizar', 'o', 'cartão', 'se', 'eu', 'n', 'me', 'engano', 'nubank', 'permite'], ['@nubank', 'não', 'espero', 'menos', 'que', 'isso', 'no', 'meu', 'niveer', '😏❣️'], ['@bdilucas', '@annaflhira', '@_nielsengaldino', '@c6bank', '@nubank', 'meu', 'deus', 'que', 'odio', 'kkkkkkkkkkk', 'mas', 'tu', 'fez', 'agora', 'recente', 'né', 'lembro', 'de', 'um', 'tweet', 'teu', 'falando', 'disso'], ['oi', 'gente', 'eu', 'continuo', 'precisando', 'd', 'doações', 'pra', 'comprar', 'ração', 'para', 'gatos', 'q', 'eu', 'resgatei', 'e', 'crio', 'em', 'minha', 'casa', 'muitas', 'pessoas', 'ajudaram', 'cmo', 'deu♥️🙏', 'ainda', 'tô', 'precisando', 'por', 'favor', 'quem', 'puder', 'e', 'quiser', 'ajudar', 'picpaypix', '87988110417', '🙏', 'pix', 'nubank', 'meusanjos222@gmailcom', 'https//tco/hgggv9k5u6'], ['@chmproblems', 'é', 'nubank', 'eu', 'bloqueei', 'o', 'cartão', 'já', 'e', 'avisei', 'q', 'não', 'fui', 'eu', 'tbm', 'chamei', 'no', 'chat', 'peloamor', 'da', 'onde', 'isso'], ['@nubank', 'miga', 'tô', 'com', 'um', 'probleminha', 'kkkkk'], ['hauahuhau', 'amo', 'https//tco/ksff26g8vy'], ['unico', 'banco', 'q', 'presta', 'pra', 'ter', 'conta', 'hj', 'em', 'dia', 'eh', 'o', 'nubank'], ['e', 'o', 'nubank', 'q', 'aumentou', 'meu', 'limite', 'sendo', 'q', 'nunca', 'usei', 'nem', 'metade', 'doq', 'ja', 'tinha', 'mas', 'to', 'nem', 'ai', 'vai', 'q', 'um', 'dia', 'preciso', 'ne', 'kkkkkkkk'], ['@soueudeh', '@aka_da_tijuca', '@_pojulia', 'pior', 'que', 'não', 'eu', 'fui', 'olhar', 'e', 'o', 'meu', 'app', 'da', 'nubank', 'estava', 'conectado', 'tomei', 'um', 'susto', 'e', 'desconectei', 'na', 'hora'], ['@thalita_tsr', 'foi', 'prático', 'né', 'pode', 'ficar', 'tranquila', 'que', 'sempre', 'vamos', 'estar', 'aqui', 'pra', 'te', 'ajudar', '💜', 'https//tco/sty8gofxkf'], ['fiz', 'um', 'pix', 'de', 'dez', 'centavos', 'pra', 'minha', 'nubank', 'pra', 'ver', 'se', 'ia', 'mesmo', 'https//tco/68gvddb9ua'], ['to', 'pensando', 'seriamente', 'em', 'parar', 'de', 'usar', 'nubank'], ['@amazonhelp', 'olá', 'boa', 'noite', 'agora', 'a', 'pouco', 'caiu', 'uma', 'compra', 'da', 'amazon', 'no', 'meu', 'cartão', 'nubank', 'mas', 'eu', 'não', 'realizei', 'nenhuma', 'compra'], ['@nubank', '@nubank', 'explica', 'um', 'platinum', 'com', '340', 'reais', 'de', 'limite', '🤷🏻\\u200d♂️'], ['finalmente', 'deixaram', 'os', 'content', 'creator', 'fazer', 'o', 'trabalho', 'deles', 'direito', 'vai', 'planeta', 'hein', 'https//tco/0woqjzorbj'], ['nubank', 'me', 'aceitou', 'agora', 'tenho', 'um', 'cartão', 'de', 'crédito', 'com', '20', 'reais', 'de', 'limite', '😎'], ['@_lmilena', '@nubank', 'é', 'q', 'com', '300', 'de', 'limite', 'sobrando', 'é', 'difícil', 'comprar', 'alguma', 'coisa'], ['@nubank', 'vlw', 'estagiário', 'por', 'avisar', '😉'], ['me', 'liberaram', 'mais', 'um', 'cartão', 'de', 'crédito', 'de', 'outro', 'banco', 'mas', 'o', 'que', 'eu', 'queria', 'mesmo', 'era', 'que', 'a', '@nubank', 'aumentasse', 'meu', 'limite', 'poxa'], ['@jhowmira', 'se', 'essa', 'vontadezinha', 'aumentar', 'dá', 'uma', 'olhada', 'nesse', 'link', 'https//tco/fffiwvazt0', 'nele', 'postamos', 'todas', 'as', 'vagas', 'abertas', 'no', 'momento', 'e', 'se', 'alguma', 'tiver', 'o', 'seu', 'perfil', 'é', 'só', 'se', 'aplicar', 'e', 'aguardar', 'nossa', 'análise😉💜'], ['@nubank', 'aumenta', 'meu', 'limite', 'aí', 'bb'], ['@annaflhira', '@_nielsengaldino', '@musabronzeada', '@c6bank', '@nubank', 'o', 'meu', 'saiu', 'de', '50', 'pra', '70', 'quem', 'amour'], ['vsff', 'n', 'consigo', 'depositar', 'na', 'minha', 'conta', 'da', 'nubank'], ['ja', 'da', 'o', 'golpe', 'https//tco/rwnvssdwhn'], ['@nubank', 'odeio', 'vocês', 'morra', 'nubank'], ['@eikebatista', 'quase', 'equivalentes', 'ao', 'ano', 'inteiro', 'de', '2019', 'escreve', 'o', 'executivo', 'mais', 'uma', 'vez', 'o', 'nubank', 'ressaltou', 'no', 'comunicado', 'que', 'o', 'prejuízo', 'é', 'uma', 'decisão', 'uma', 'vez', 'que', 'a', 'empresa', 'tem', 'buscado', 'reinvestir', 'o', 'que', 'entra', 'em', 'equipes', 'serviços', 'e', 'produtos', 'podemos', 'gerar', 'lucro', 'a', 'qualquer', '4'], ['pq', 'minhas', 'faturas', 'do', 'nubank', 'nunca', 'baixam', 'de', '500', 'reais', 'google', 'pesquisar'], ['@nubank', 'me', 'ajuda', 'senhorita', 'kkkkk', 'minha', 'irmã', 'e', 'minha', 'namorada', 'que', 'foram', 'indicações', 'minhas', 'já', 'tem', 'e', 'eu', 'não', 'hahahaha'], ['@thelminha', '@christian_fig', '@zoofficial', 'oi', 'gente', 'eu', 'continuo', 'precisando', 'd', 'doações', 'pra', 'comprar', 'ração', 'para', 'gatos', 'q', 'eu', 'resgatei', 'e', 'crio', 'em', 'minha', 'casa', 'muitas', 'pessoas', 'ajudaram', 'cmo', 'deu♥️🙏', 'ainda', 'tô', 'precisando', 'por', 'favor', 'quem', 'puder', 'e', 'quiser', 'ajudar', 'picpaypix', '87988110417', '🙏', 'pix', 'nubank', 'meusanjos222@gmailcom', 'https//tco/v89o762ovi'], ['eu', 'amo', 'um', 'banco', 'kkkkkkkk', 'https//tco/ab5pqsb2bd'], ['@srtaliandro', 'a', 'gente', 'até', 'queira', 'mas', 'infelizmente', 'por', 'aqui', 'nós', 'não', 'conseguimos', 'dá', 'uma', 'olhadinha', 'no', 'post', 'que', 'fizemos', 'no', 'nosso', 'blog', 'dando', 'algumas', 'dicas', 'de', 'como', 'aumentar', 'o', 'seu', 'limite', 'https//tco/1wxv56fbfv'], ['@nubank', 'era', 'só', 'esse', 'aumento', 'hein', 'linda', 'movimento', 'a', 'conta', 'namoraaaaal', 'nunca', 'pedi', 'nada', '😓🤡'], ['@nubank', 'aaaaah', 'obrigada', '💜'], ['@nubank', 'nubank', 'libera', 'a', 'opção', 'de', 'empréstimo', 'pra', 'mim', 'que', 'eu', 'to', 'precisando'], ['@thrwants', 'aconteceu', 'algo', 'semelhante', 'comigo', 'no', 'nubank', 'a', 'pessoa', 'testou', 'meu', 'limite', 'com', '12', 'reais', 'e', 'depois', 'passou', '300', 'mas', 'entrei', 'em', 'contato', 'imediatamente', 'e', 'o', 'nubank', 'estornou', 'a', 'compra'], ['o', 'estagiário', 'prestes', 'a', 'cometer', 'um', 'crime', 'de', 'ódio', 'https//tco/xfrmlsebim'], ['pedir', 'um', 'cartão', 'de', 'crédito', 'no', 'nubank', '🙏🏽'], ['@rafapmaias', 'rafa', 'não', 'desista', 'do', 'seu', 'roxinho', 'quem', 'sabe', 'a', 'sua', 'espera', 'será', 'recompensada', 'quando', 'vir', 'o', 'aumento', '💜'], ['@witchsreign', 'e', 'a', 'gente', 'ama', 'vocês', 'de', 'verdade', '💜', 'https//tco/qxyvytozax'], ['me', 'vejo', 'obrigado', 'a', 'parcelar', 'rp', 'na', 'minha', 'já', 'parcelada', 'fatura', 'da', 'nubank', 'https//tco/oru8ms4k2l'], ['@nubank', 'zero', 'limite', 'também', 'não', 'é', 'legal', '😬'], ['@dbocean_', '@nubank', 'errado', 'não', 'está', 'hahaha', 'mas', 'pagando', 'bem', 'que', 'mal', 'tem', 'né', '💅🏼'], ['@diogomachado8', '@nubank', 'se', 'tá', 'difícil', 'pra', 'você', 'cliente', 'vip', 'imagina', 'pros', 'outros'], ['@guarana', '@nubank', 'eu', 'amo', 'interações', 'hahahahahah'], ['@nubank', 'essa', 'foi', 'sem', 'dúvida', 'a', 'função', 'que', 'eu', 'mais', 'esperava', 'agora', 'só', 'falta', 'oferecer', 'o', 'master', 'card', 'black', 'hahahaha', 'vai', 'que'], ['@nubank', 'aumenta', 'meu', 'limite', 'q', 'eu', 'mando', 'um', 'ifood', 'pra', 'vcs'], ['queria', 'q', 'o', '@nubank', 'aumentasse', 'meu', 'limite'], ['o', 'que', 'esperar', 'do', 'dono', 'dos', 'roxinhos', 'que', 'não', 'para', 'de', 'crescer', 'e', 'alcança', '35', 'milhões', 'de', 'clientes', 'confira', 'quais', 'são', 'os', 'próximos', 'passos', 'do', '@nubank', 'fintech', 'inovação', 'startse', 'https//tco/fvguknsr83'], ['@whatgomess', 'tio', 'nós', 'ainda', 'vamos', 'fazer', '8', 'anos', 'em', 'maio', 'viu', '😎', 'não', 'temos', 'um', 'valor', 'exato', 'o', 'limite', 'é', 'uma', 'variável', 'que', 'melhor', 'se', 'adéqua', 'aos', 'dados', 'financeiros', 'dos', 'nossos', 'clientes', 'entende', 'o', 'responsável', 'por', 'definir', 'é', 'um', 'algorítimo', 'que', 'leva', 'vários', 'pontos', 'em', 'consideração', 'na', 'análise', '☺'], ['@nubank', '2', 'anos', 'de', 'conta', 'e', 'nunca', 'me', 'liberaram', 'crédito', '😞'], ['sistema', 'do', '@falanext', 'eh', 'tao', 'ruim', 'q', 'tenhp', 'ctz', 'q', 'os', 'atendentes', 'de', 'la', 'tem', '@nubank'], ['@nubank', '😂😂😂vocês', 'são', 'demais'], ['@fakenickels', '@daniloab_', '@nicholasess', '@devdomingues', '@nubank', 'oi', 'pessoal', 'a', 'conexão', 'que', 'temos', 'com', 'o', 'nu', 'é', 'feita', 'através', 'de', 'uma', 'tecnologia', 'criada', 'por', 'nós', 'e', 'por', 'uma', 'questão', 'de', 'negócio', 'não', 'podemos', 'abrir'], ['@avonbr', 'oi', 'gente', 'eu', 'continuo', 'precisando', 'd', 'doações', 'pra', 'comprar', 'ração', 'para', 'gatos', 'q', 'eu', 'resgatei', 'e', 'crio', 'em', 'minha', 'casa', 'muitas', 'pessoas', 'ajudaram', 'cmo', 'deu♥️🙏', 'ainda', 'tô', 'precisando', 'por', 'favor', 'quem', 'puder', 'e', 'quiser', 'ajudar', 'picpaypix', '87988110417', '🙏', 'pix', 'nubank', 'meusanjos222@gmailcom'], ['@nubank', 'ha', 'deu', 'certinho', 'pelo', '0800', 'muito', 'obrigado', '❤️'], ['@luispalatti', 'nubank', 'mas', 'me', 'liberou', 'só', '50', 'de', 'credito'], ['@guarana', '@nubank', 'quem', 'é', 'ademir', 'pra', 'eu', 'brigar', 'com', 'ele'], ['@chicofariasneto', 'superaaa', '@nubank', 'aumenta', 'o', 'limite', 'desse', 'menino', 'plms'], ['@thamysotnas', '@crvgleticia_', 'hey', 'nós', 'também', 'queremos', 'https//tco/t8rksvfvov'], ['minha', 'fatura', 'do', 'cartão', 'da', 'nubank', 'fechou', 'em', '45', 'reais', 'kkkk', 'dias', 'de', 'glória'], ['@nubank', 'o', 'aumento', 'vem', 'primeiro', 'né🤩🤩'], ['@nubank', 'rapaz', 'até', 'o', 'banco', 'do', 'brasil', 'subindo', 'limite', 'a', 'cada', 'compra', 'que', 'é', 'feita', 'e', 'paga', 'e', 'vocês', 'é', 'uma', 'burocracia', 'danada', 'subaolimite'], ['@theleofranco', 'que', 'isso', 'sem', 'vocês', 'nada', 'seria', 'possível', '💜'], ['ok', 'nubank', 'o', 'q', 'eu', 'faço', 'com', 'meu', 'limite', 'de', '089', 'centavos', 'kkkkk'], ['às', 'vezes', 'eu', 'só', 'queria', 'que', '@caetanoveloso', 'fizesse', 'um', 'bis', 'da', 'turnê', 'dele', 'com', '@mariagadu', 'eu', 'dividia', 'em', '12', 'no', 'nubank', 'botava', 'meu', 'nome', 'no', 'serasa', 'mas', 'ia', 'nem', 'que', 'fosse', 'o', 'preço', 'de', 'um', 'iphone'], ['olha', 'só', '@nubank', 'eu', 'vou', 'brigar', 'pelo', 'meus', '465', 'duplicados', 'sim'], ['eu', 'fui', 'aceito', 'pela', 'nubank', 'mano', 'do', 'céu'], ['@brenda_244', 'esse', 'é', 'um', 'cartão', 'onde', 'você', 'pode', 'depositar', 'o', 'saldo', 'da', 'sua', 'conta', 'como', 'limite', 'para', 'usar', 'como', 'um', 'cartão', 'de', 'crédito', 'esse', 'produto', 'tem', 'como', 'objetivo', 'facilitar', 'o', 'caminho', 'das', 'pessoas', 'a', 'construir', 'um', 'histórico', 'de', 'crédito', 'com', 'a', 'gente', 'torando', 'possível', 'o', 'acesso', 'a', 'um', 'cartão', 'tradicional'], ['@endzfv', '@nubank', 'a', 'nubank', 'só', 'vai', 'mudar', 'essa', 'visão', 'dela', 'quando', 'parar', 'com', 'essa', 'limitação', 'com', 'o', 'povo', 'se', 'estamos', 'pagando', 'em', 'diapq', 'não', 'aumentar', 'meu', 'limite'], ['@nubank', 'so', 'queria', 'meu', 'cartao', 'de', 'credito', 'mas', 'vcs', 'me', 'odeiam', 'ne😭'], ['@nubank', 'quero', 'fazeeeeeeeer'], ['alô', '@nubank', 'kk', 'me', 'ajuda', 'aqui', 'a', 'minha', 'fatura', 'deu', 'um', 'problema'], ['meu', 'nubank', 'até', 'hoje', 'de', 'chegar', 'aqui', 'em', 'casa'], ['@jhonatacirilo', 'ahhhh', 'dá', 'uma', 'olhadinha', 'nas', 'nossas', 'oportunidades', 'migo', 'caso', 'se', 'identifique', 'com', 'alguma', 'é', 'só', 'mandar', 'o', 'currículo', 'https//tco/tqdxvothtz', 'e', 'claro', 'ficaremos', 'aqui', 'na', 'torcida', '💜', 'https//tco/rmlrxmbv2m'], ['@nubank', 'como', 'o', 'meu', 'limite', 'já', 'foi', 'aumentado', 'falta', 'aquela', 'pizza', 'para', 'me', 'sentir', 'mais', 'feliz', 'ah', 'nubank', 'libera', 'aí', '😇😆'], ['@danyelhenriquee', '@arco_irys_', 'n', 'escolhe', 'o', 'inter', 'não', 'mano', 'brother', 'melhor', 'ficar', 'entre', 'nubank', 'e', 'c6', 'bank'], ['@nubank', 'aumenta', 'meu', 'limite', 'ai'], ['@guarana', '@nubank', 'passou', 'da', 'hora', 'de', 'voltar', 'a', 'caçulinha'], ['@nubank', 'aproveita', 'que', 'é', 'meu', 'aniversário', 'e', 'aumenta', 'meu', 'limite', 'ai', 'por', 'favor'], ['@nubank', 'o', 'social', 'media', 'aceita', 'propina'], ['@nubank', 'só', 'aumenta', 'meu', 'limite', 'pra', 'mim', 'testar', 'um', 'negócio', 'aqui🤣😎'], ['@nubank', 'e', 'eu', 'so', 'quero', 'o', 'apple', 'pay', '😎'], ['@berwanger13', '@itau', 'ah', 'daí', 'é', 'foda', 'faz', 'conta', 'na', 'nubank', 'sla'], ['@cabecabalao', '@nubank', 'só', 'separação', 'por', 'cor', 'é', 'a', 'injúria', 'a', 'agressão', 'é', 'muito', 'mais', 'grave', 'que', 'diferenciar', 'por', 'cor', 'é', 'o', 'genocídio', 'é', 'a', 'intolerância', 'religiosa', 'e', 'vai'], ['@aartbabe', 'olha', 'essa', 'seria', 'uma', 'proposta', 'tentadora', 'hein', 'mas', 'brincadeiras', 'a', 'parte', 'por', 'aqui', 'nós', 'não', 'conseguimos', 'aumentar', 'dá', 'uma', 'conferida', 'aqui', 'nesse', 'link', 'https//tco/1wxv56fbfv', 'que', 'separamos', 'algumas', 'dicas', 'pra', 'você'], ['deposita', '775', 'reais', 'no', 'meu', 'nubank', 'pra', 'eu', 'comprar', 'um', 'teclado', 'ajazz', 'cherry', 'switch', 'animals', 'cute', 'version', 'e', 'eu', 'digo', 'se', 'esperava', 'ou', 'nao'], ['@nubank', '@eoqgusto', 'nubank', 'por', 'que', 'vcs', 'ainda', 'não', 'atualizaram', 'o', 'rendimento', 'na', 'conta', 'com', 'o', 'aumento', 'da', 'selic'], ['pré', 'requisito', 'de', 'banco', 'parece', 'que', 'é', 'ter', 'aplicativo', 'ruim', 'com', 'exceção', 'do', 'nubank'], ['boletim', 'de', 'marketing', 'para', 'afiliados', 'https//tco/knssdf4giy', 'agradecimentos', 'a', '@kmbappe07', 'nubank', 'einvestidor'], ['só', 'queria', 'dinheiro', 'na', 'minha', 'conta', 'nova', '@nubank'], ['@fabiorlive', 'poxa', 'por', 'enquanto', 'nós', 'não', 'temos', 'novidades', 'mas', 'assim', 'que', 'a', 'gente', 'souber', 'de', 'algo', 'avisaremos', 'vocês', 'combinado', 'ai', 'vocês', 'vão', 'poder', 'cantar', 'até', 'uma', 'versão', 'de', 'brisa', 'da', 'nossa', 'diva', 'iza'], ['eu', 'acho', 'que', 'a', 'nubank', 'vai', 'me', 'mandar', 'outro', 'cartão', 'como', 'eu', 'aviso', 'que', 'eu', 'já', 'tenho', 'um'], ['@guarana', '@nubank', 'gastar', 'tudo', 'com', 'lanches', 'e', 'naná'], ['o', 'jovem', 'de', '18', 'anos', 'em', 'que', 'o', 'primeiro', 'cartão', 'é', 'do', 'nubank', 'kkkkkkkkkkkkk'], ['@gabrielsantushi', 'pelo', 'jeito', 'você', 'gosta', 'tanto', 'do', 'roxinho', 'quanto', 'a', 'bey', 'dos', '28', 'grammys', 'dela', 'né', 'é', 'isso', 'que', 'chamamos', 'de', 'upgrade', '😉', 'https//tco/jarmujrrl8'], ['@nubank', 'eu', 'só', 'queria', 'vocês', 'samsung', 'pay', '😔'], ['não', 'clonaram', 'meu', 'cartão', 'de', 'credito', 'do', 'nubank', 'não', 'né', 'minha', 'sorte', 'é', 'que', 'o', '@nubank', 'é', 'o', 'melhor', '😌'], ['@hs_ramao', '@nubank', 'irmão', 'não', 'é', 'pra', 'tu', 'se', 'endividar', 'antes', 'dos', '20'], ['@nubank', 'vcs', 'ficam', 'aumentando', 'o', 'limite', 'de', 'uma', 'mulher', 'consumista', 'como', 'eu', 'sem', 'q', 'eu', 'peça', 'e', 'aí', 'fico', 'querendo', 'comprar', 'o', 'mundo'], ['@vitorgnego', 'se', 'dependesse', 'do', 'social', 'media'], ['@lucasafoliveira', '@paynewsbr', '@bancooriginal', '@nubank', 'maior', 'vergonha', 'chamase', 'santander', '@santander_br'], ['a', 'nubank', 'entregou', 'meu', 'cartão', 'no', 'meu', 'endereço', 'antigo', 'que', 'mora', 'os', 'meus', 'tios', 'e', 'eles', 'estão', 'com', 'covid', 'pelo', 'amor', 'de', 'deus', 'nubank', 'como', 'que', 'eu', 'vou', 'pegar', 'meu', 'roxinho', 'agora'], ['@nubank', 'mas', 'só', 'me', 'negam😭'], ['@adrianozenaro_', 'medo', 'de', 'quando', 'a', 'nubank', 'liberar', 'mais', 'meu', 'limite', 'kkkkkk'], ['social', 'media', 'aumenta', 'so', 'de', 'quem', 'também', 'é', 'social', 'media', '🙏🏻', 'o', 'banco', 'nem', 'vai', 'notar', 'pfvr', 'https//tco/0p0do75fop'], ['@nubank', 'inclusive', 'querendo', 'um', 'bônus', 'pra', 'agradar', 'a', 'morena'], ['@nubank', 'é', 'aqui', 'q', 'a', 'esperança', 'hiberna', '😪😪😪', 'https//tco/fwy0cunxse'], ['meu', 'deus', 'meu', 'nubank', 'chegou', 'to', 'sentindo', 'q', 'fiz', 'merda', 'solicitando', 'um', 'ajaiiai', 'vou', 'falir', 'check'], ['@efranciscone', 'a', 'gente', 'até', 'queria', 'mas', 'por', 'aqui', 'a', 'gente', 'não', 'consegue', 'aumentar', 'aqui', 'neste', 'link', 'https//tco/1wxv56fbfv', 'separamos', 'algumas', 'dicas', 'pra', 'você', 'de', 'como', 'aumentar', 'tudo', 'bem', 'dá', 'uma', 'conferida'], ['porra', 'nubank', 'cobra', '6', 'e', 'galo', 'só', 'pra', 'sacar', 'dinheiro', 'mano', 'pqp'], ['muita', 'coisa', 'séria', 'liberada', 'se', 'dependesse', 'de', 'nós', 'https//tco/jhi7varmk3'], ['@glemersonmorei2', 'ahh', 'bem', 'que', 'queríamos', 'hein', 'migo', 'mas', 'é', 'tudo', 'feito', 'pelo', 'nosso', 'sistema', 'dá', 'uma', 'olhadinha', 'nesse', 'post', 'aqui', 'que', 'tem', 'mais', 'informações', 'sobre', 'nossa', 'análise', 'ta', 'bem', 'https//tco/1wxv56fbfv', 'https//tco/lf1o8euo3a'], ['@nubank', 'meu', 'cartão', 'chegou', 'quero', 'gastar', 'mas', 'não', 'consigo', 'desbloquear', 'nem', 'por', 'reza', 'me', 'ajuda'], ['@alexhusn', 'meu', 'deus', 'obrigada', 'obrigada', 'obrigada', 'botei', 'no', 'cofrinho', 'do', 'nubank', 'e', 'agr', 'só', 'posso', 'tirar', 'em', 'agosto', '😭❤'], ['meu', 'cartão', 'da', 'nubank', 'chegou'], ['@gininhaoliver', '@renataa94570590', 'isso', 'ai', 'indica', 'prazamigas', 'e', 'prozamigos', 'o', 'importante', 'é', 'tirar', 'eles', 'da', 'fila', 'dos', 'bancos', 'e', 'trazer', 'a', 'praticidade', 'para', 'o', 'dia', 'a', 'dia', 'deles', 'qualquer', 'coisa', 'chama', 'a', 'gente', '💜', 'https//tco/bfkdpqcgot'], ['@ogustamlk', 'eita', 'o', 'que', 'aconteceu', 'chama', 'a', 'gente', 'em', 'um', 'dos', 'nossos', 'canais', 'de', 'atendimento', 'por', 'favor', 'https//tco/vzhq5jifjp'], ['fui', 'olhar', 'a', 'fatura', 'do', 'nubank', 'e', 'bebe', 'kkkkkk', 'to', 'fufu'], ['@softenono', 'tu', 'tem', '18', 'pq', 'tipo', 'aí', 'pode', 'fazer', 'um', 'nubank'], ['n', 'sei', 'usar', 'o', 'nubank', 'fiz', 'um', 'cartão', 'online', 'sem', 'querer'], ['e', 'pedir', 'muito', 'pra', 'nubank', 'liberar', 'um', 'cartão', 'só', 'quero', 'aumentar', 'meu', 'score'], ['nubank', 'tá', 'de', 'sacanagem', 'c', 'a', 'minha', 'cara'], ['@renataa94570590', '@nubank', 'tive', 'dois', 'aumentos', 'mas', 'bem', 'meia', 'boca', 'eles', 'te', 'falaram', 'oq', 'na', 'dm', 'kkkkk', 'curioso'], ['@brucrossi', 'vocês', 'também', 'são', 'os', 'melhores', 'clientes', 'então', 'tamo', 'junto', '💜🤜🏽🤛🏽', 'https//tco/y37vtksuzh'], ['@20seduzii_', 'problema', 'que', 'problema', '👀', 'se', 'for', 'algo', 'urgente', 'chama', 'a', 'gente', 'nos', 'canais', 'de', 'atendimento', 'combinado', 'https//tco/vzhq5jifjp', 'ps', 'amamos', 'o', 'nike', '🐰💜'], ['recebi', 'o', 'cartão', 'platinum', 'da', 'nubank', 'crente', 'q', 'teriam', 'mts', 'benefícios', 'só', 'que', 'não', '😴'], ['@embalsamated', '@_______jhony', '@fercorsato', '@nubank', 'oq', 'é', 'holerite'], ['nubank', 'você', 'não', 'me', 'testa'], ['@strangerxstan', 'joão', 'aqui', 'a', 'gente', 'não', 'interfere', 'na', 'análise', 'mas', 'pede', 'no', 'app', 'que', 'a', 'resposta', 'já', 'sai', 'na', 'hora', 'combinado', 'estamos', 'na', 'torcida', '💜', 'https//tco/rdx2jcdqlv'], ['@nubank', 'anjo', '😘'], ['eu', 'quero', 'é', 'que', 'parem', 'de', 'aumentar', 'o', 'meu', 'limite', 'https//tco/o6wyhfhmys'], ['@novinhodalancha', 'se', 'dependesse', 'da', 'gente'], ['meu', 'cartão', 'da', 'nubank', 'chegou', 'no', 'começo', 'dessa', 'semana', 'eu', 'já', 'estou', 'usando', 'torta', 'direita', 'kkkkkkkkkk', 'amo'], ['@nubank', 'nunca', 'pede', 'meus', 'dados', 'todos', 'e', 'falam', 'que', 'vão', 'me', 'enviar', 'o', 'email', 'nunca', 'chegaaaaaaaaaaaa'], ['eu', 'aqui', 'na', 'luta', 'pra', 'conseguir', 'limite', 'no', 'nubank', 'a', 'desgraça', 'consegue', '1200', 'de', 'cara', 'ah', 'meu', 'deus', 'em', '@nubank'], ['@nubank', 'eu', 'somente', 'quero', 'https//tco/vfwatoir9u'], ['@jenni_rsrs', 'poxa', 'a', 'gente', 'até', 'queria', 'aumentar', 'seu', 'limite', 'mas', 'por', 'aqui', 'a', 'gente', 'não', 'consegue', 'porem', 'dá', 'uma', 'conferida', 'aqui', 'nesse', 'link', 'https//tco/1wxv56fbfv', 'aqui', 'separamos', 'algumas', 'dicas', 'pra', 'você', 'de', 'como', 'aumentar', 'seu', 'limite'], ['@annaflhira', '@_nielsengaldino', '@c6bank', '@nubank', 'mlr', 'um', 'lixo', 'no', 'começo', 'eu', 'passei', 'uns', '4', 'meses', 'só', 'com', '50', 'ai', 'agora', 'recentemente', 'aumentaram', 'pra', '1400', '🙏🏾', 'eu', 'tenho', 'a', '1', 'ano', 'acho'], ['@sandessgustavo', '@nubank', 'kkkkkkkkkkkkkkkkkkk', 'te', 'manqueee'], ['@nubank', 'já', 'tá', 'na', 'hora', 'de', 'dar', 'uma', 'moral', 'no', 'limite', 'né', '🤯🤯'], ['@alvesandreew', '@nubank', 'o', 'meu', 'tá', 'o', 'contrário', 'hahahah', '😢😢'], ['@aiefodacnc', 'bora', 'ajudem', 'a', 'pagar', 'a', 'nubank', 'https//tco/njkov6foec'], ['mto', 'obrigado', '@nubank', 'os', 'senhores', 'estão', 'fazendo', 'meu', 'dia', 'muito', 'feliz', 'obrigado', 'senhores', 'https//tco/vbsxwra4i1'], ['@nubank', 'vô', '@nubank', 'so', 'queria', 'meu', 'portao', 'cartao', 'roxinho'], ['na', 'hora', 'que', 'ia', 'tentar', 'fazer', 'outro', 'cartão', 'de', 'crédito', 'nubank', 'me', 'enviou', 'not', 'aumentando', 'meu', 'limite', 'kkkkkkkkkkkkkk', 'scr'], ['@piofilosofico', '@nubank', 'e', 'o', 'meu', 'limite'], ['@flaviosalvador', '@chmateusperes', '@nubank', 'quem', 'dera', 'aumentar', 'o', 'meu', 'limite', 'só', 'ganhei', 'mimos', 'msm'], ['@nubank', 'sou', 'nubank', 'primeiro', 'banco', 'a', 'dar', 'credito', 'de', 'verdade', 'pra', 'negativado', 'show', 'vcs', 'sim', 'confia', 'de', 'verdade', 'em', 'sem', 'seus', 'clientes👏👏👏👏👏👏👏'], ['@carlosm05236449', '@nubank', 'vlw', 'carlota', '😆'], ['@nubank', 'iibera', 'por', 'favor', 'nubank'], ['nubank', 'tá', 'comendo', 'meu', 'cu', 'em', 'juros', 'pqp'], ['o', 'nubank', 'encerrou', '2020', 'com', 'r', '29', 'bilhões', 'em', 'recursos', 'depositados', 'volume', '26', 'vezes', 'maior', 'que', 'o', 'de', '2019', 'o', 'número', 'de', 'clientes', 'avançou', '68', 'com', '33', 'milhões', 'ativos', 'até', 'dezembro']]\n"
     ]
    }
   ],
   "source": [
    "lista_test = []\n",
    "lista_relevante_test = []\n",
    "lista_irrelevante_test = []\n",
    "\n",
    "for i in range(0,300):\n",
    "    x = cleanup(test.Teste[i]).lower().split()\n",
    "    \n",
    "    lista_test.append(x)\n",
    "    \n",
    "    if train.iloc[i,1] == 1:\n",
    "        j = 0\n",
    "        while j < len(x):\n",
    "            lista_relevante_test.append(x[j])\n",
    "            j+=1\n",
    "        \n",
    "    else:\n",
    "        k = 0\n",
    "        while k < len(x):\n",
    "            lista_irrelevante_test.append(x[k])\n",
    "            k+=1\n",
    "print(lista_test)"
   ]
  },
  {
   "cell_type": "code",
   "execution_count": 16,
   "metadata": {},
   "outputs": [
    {
     "data": {
      "text/html": [
       "<div>\n",
       "<style scoped>\n",
       "    .dataframe tbody tr th:only-of-type {\n",
       "        vertical-align: middle;\n",
       "    }\n",
       "\n",
       "    .dataframe tbody tr th {\n",
       "        vertical-align: top;\n",
       "    }\n",
       "\n",
       "    .dataframe thead th {\n",
       "        text-align: right;\n",
       "    }\n",
       "</style>\n",
       "<table border=\"1\" class=\"dataframe\">\n",
       "  <thead>\n",
       "    <tr style=\"text-align: right;\">\n",
       "      <th></th>\n",
       "      <th>Teste</th>\n",
       "      <th>Relevância</th>\n",
       "      <th>Relevância_Classificador</th>\n",
       "    </tr>\n",
       "  </thead>\n",
       "  <tbody>\n",
       "    <tr>\n",
       "      <th>0</th>\n",
       "      <td>@ogustamlk gu, obrigado por nos avisar sobre i...</td>\n",
       "      <td>0</td>\n",
       "      <td>a</td>\n",
       "    </tr>\n",
       "    <tr>\n",
       "      <th>1</th>\n",
       "      <td>@nubank nubank libera logo meu cartao de crédi...</td>\n",
       "      <td>1</td>\n",
       "      <td>a</td>\n",
       "    </tr>\n",
       "    <tr>\n",
       "      <th>2</th>\n",
       "      <td>nubank foi o melhor cartão que eu já fiz até h...</td>\n",
       "      <td>1</td>\n",
       "      <td>a</td>\n",
       "    </tr>\n",
       "    <tr>\n",
       "      <th>3</th>\n",
       "      <td>@nubank quer casar cmg?</td>\n",
       "      <td>0</td>\n",
       "      <td>a</td>\n",
       "    </tr>\n",
       "    <tr>\n",
       "      <th>4</th>\n",
       "      <td>aeeee carai, nubank aceitou meu crédito :3</td>\n",
       "      <td>1</td>\n",
       "      <td>a</td>\n",
       "    </tr>\n",
       "  </tbody>\n",
       "</table>\n",
       "</div>"
      ],
      "text/plain": [
       "                                               Teste  Relevância  \\\n",
       "0  @ogustamlk gu, obrigado por nos avisar sobre i...           0   \n",
       "1  @nubank nubank libera logo meu cartao de crédi...           1   \n",
       "2  nubank foi o melhor cartão que eu já fiz até h...           1   \n",
       "3                            @nubank quer casar cmg?           0   \n",
       "4         aeeee carai, nubank aceitou meu crédito :3           1   \n",
       "\n",
       "  Relevância_Classificador  \n",
       "0                        a  \n",
       "1                        a  \n",
       "2                        a  \n",
       "3                        a  \n",
       "4                        a  "
      ]
     },
     "execution_count": 16,
     "metadata": {},
     "output_type": "execute_result"
    }
   ],
   "source": [
    "test[\"Relevância_Classificador\"] = 'a'\n",
    "test.head()"
   ]
  },
  {
   "cell_type": "code",
   "execution_count": 17,
   "metadata": {},
   "outputs": [],
   "source": [
    "contador = 0\n",
    "Pr = len(lista_relevante)/len(total)\n",
    "Pi = len(lista_irrelevante)/len(total)\n",
    "Prob_d_ser_relevante = []\n",
    "Prob_d_ser_irrelevante = []\n",
    "\n",
    "while contador < len(lista_test):\n",
    "    \n",
    "    acumulador_relevante = 1\n",
    "    acumulador_irrelevante = 1\n",
    "\n",
    "    for h in lista_test[contador]:\n",
    "\n",
    "        if h not in lista_relevante:\n",
    "            tabela_relevante_absoluta[h] = 0\n",
    "\n",
    "        if h not in lista_irrelevante:\n",
    "            tabela_irrelevante_absoluta[h] = 0\n",
    "\n",
    "        acumulador_relevante *= ( tabela_relevante_absoluta[h] + 1 ) / ( len(lista_relevante) + len(total) )\n",
    "        acumulador_irrelevante *= ( tabela_irrelevante_absoluta[h] + 1 ) / ( len(lista_irrelevante) + len(total) ) \n",
    "      \n",
    "        \n",
    "    # Probabilidades\n",
    "    Prob_d_ser_relevante.append(Pr*acumulador_relevante)\n",
    "    Prob_d_ser_irrelevante.append(Pi*acumulador_irrelevante)\n",
    "\n",
    "    if Prob_d_ser_relevante[contador] > Prob_d_ser_irrelevante[contador]:\n",
    "        test.loc[contador,[\"Relevância_Classificador\"]] = 1\n",
    "\n",
    "    else:\n",
    "        test.loc[contador,[\"Relevância_Classificador\"]] = 0\n",
    "        \n",
    "    contador = contador + 1"
   ]
  },
  {
   "cell_type": "code",
   "execution_count": 18,
   "metadata": {
    "scrolled": true
   },
   "outputs": [
    {
     "data": {
      "text/html": [
       "<div>\n",
       "<style scoped>\n",
       "    .dataframe tbody tr th:only-of-type {\n",
       "        vertical-align: middle;\n",
       "    }\n",
       "\n",
       "    .dataframe tbody tr th {\n",
       "        vertical-align: top;\n",
       "    }\n",
       "\n",
       "    .dataframe thead th {\n",
       "        text-align: right;\n",
       "    }\n",
       "</style>\n",
       "<table border=\"1\" class=\"dataframe\">\n",
       "  <thead>\n",
       "    <tr style=\"text-align: right;\">\n",
       "      <th></th>\n",
       "      <th>Teste</th>\n",
       "      <th>Relevância</th>\n",
       "      <th>Relevância_Classificador</th>\n",
       "    </tr>\n",
       "  </thead>\n",
       "  <tbody>\n",
       "    <tr>\n",
       "      <th>0</th>\n",
       "      <td>@ogustamlk gu, obrigado por nos avisar sobre i...</td>\n",
       "      <td>0</td>\n",
       "      <td>0</td>\n",
       "    </tr>\n",
       "    <tr>\n",
       "      <th>1</th>\n",
       "      <td>@nubank nubank libera logo meu cartao de crédi...</td>\n",
       "      <td>1</td>\n",
       "      <td>1</td>\n",
       "    </tr>\n",
       "    <tr>\n",
       "      <th>2</th>\n",
       "      <td>nubank foi o melhor cartão que eu já fiz até h...</td>\n",
       "      <td>1</td>\n",
       "      <td>0</td>\n",
       "    </tr>\n",
       "    <tr>\n",
       "      <th>3</th>\n",
       "      <td>@nubank quer casar cmg?</td>\n",
       "      <td>0</td>\n",
       "      <td>1</td>\n",
       "    </tr>\n",
       "    <tr>\n",
       "      <th>4</th>\n",
       "      <td>aeeee carai, nubank aceitou meu crédito :3</td>\n",
       "      <td>1</td>\n",
       "      <td>1</td>\n",
       "    </tr>\n",
       "  </tbody>\n",
       "</table>\n",
       "</div>"
      ],
      "text/plain": [
       "                                               Teste  Relevância  \\\n",
       "0  @ogustamlk gu, obrigado por nos avisar sobre i...           0   \n",
       "1  @nubank nubank libera logo meu cartao de crédi...           1   \n",
       "2  nubank foi o melhor cartão que eu já fiz até h...           1   \n",
       "3                            @nubank quer casar cmg?           0   \n",
       "4         aeeee carai, nubank aceitou meu crédito :3           1   \n",
       "\n",
       "  Relevância_Classificador  \n",
       "0                        0  \n",
       "1                        1  \n",
       "2                        0  \n",
       "3                        1  \n",
       "4                        1  "
      ]
     },
     "execution_count": 18,
     "metadata": {},
     "output_type": "execute_result"
    }
   ],
   "source": [
    "test.head()"
   ]
  },
  {
   "cell_type": "markdown",
   "metadata": {},
   "source": [
    "##### Analisando o Classificador"
   ]
  },
  {
   "cell_type": "code",
   "execution_count": 19,
   "metadata": {},
   "outputs": [
    {
     "data": {
      "text/html": [
       "<div>\n",
       "<style scoped>\n",
       "    .dataframe tbody tr th:only-of-type {\n",
       "        vertical-align: middle;\n",
       "    }\n",
       "\n",
       "    .dataframe tbody tr th {\n",
       "        vertical-align: top;\n",
       "    }\n",
       "\n",
       "    .dataframe thead th {\n",
       "        text-align: right;\n",
       "    }\n",
       "</style>\n",
       "<table border=\"1\" class=\"dataframe\">\n",
       "  <thead>\n",
       "    <tr style=\"text-align: right;\">\n",
       "      <th>Relevância_Classificador</th>\n",
       "      <th>0</th>\n",
       "      <th>1</th>\n",
       "    </tr>\n",
       "    <tr>\n",
       "      <th>Relevância</th>\n",
       "      <th></th>\n",
       "      <th></th>\n",
       "    </tr>\n",
       "  </thead>\n",
       "  <tbody>\n",
       "    <tr>\n",
       "      <th>0</th>\n",
       "      <td>40.000000</td>\n",
       "      <td>19.333333</td>\n",
       "    </tr>\n",
       "    <tr>\n",
       "      <th>1</th>\n",
       "      <td>11.666667</td>\n",
       "      <td>29.000000</td>\n",
       "    </tr>\n",
       "  </tbody>\n",
       "</table>\n",
       "</div>"
      ],
      "text/plain": [
       "Relevância_Classificador          0          1\n",
       "Relevância                                    \n",
       "0                         40.000000  19.333333\n",
       "1                         11.666667  29.000000"
      ]
     },
     "execution_count": 19,
     "metadata": {},
     "output_type": "execute_result"
    }
   ],
   "source": [
    "pd.crosstab(test[\"Relevância\"] , test[\"Relevância_Classificador\"], normalize=True)*100"
   ]
  },
  {
   "cell_type": "markdown",
   "metadata": {},
   "source": [
    "##### Melhorando a limpeza dos tweets"
   ]
  },
  {
   "cell_type": "code",
   "execution_count": 20,
   "metadata": {},
   "outputs": [],
   "source": [
    "# Limpando @ e links\n",
    "\n",
    "contador_r = 0\n",
    "contador_irr = 0\n",
    "\n",
    "while contador_r < len(lista_relevante):\n",
    "    \n",
    "    # Limpando os links da lista relevante\n",
    "    if lista_relevante[contador_r][0:5] == 'https':\n",
    "        del(lista_relevante[contador_r])\n",
    "        \n",
    "    # Limpando os @ da lista relevante\n",
    "    for s in lista_relevante[contador_r]:\n",
    "        if s == '@':\n",
    "            lista_relevante[contador_r] = lista_relevante[contador_r].replace(s,'')\n",
    "            \n",
    "    contador_r+=1\n",
    "\n",
    "\n",
    "while contador_irr < len(lista_irrelevante):\n",
    "    \n",
    "    # Limpando os links da lista irrelevante\n",
    "    if lista_irrelevante[contador_irr][0:5] == 'https':\n",
    "        del(lista_irrelevante[contador_irr])\n",
    "        \n",
    "    # Limpando os @ da lista irrelevante\n",
    "    for w in lista_irrelevante[contador_irr]:\n",
    "        if w == '@':\n",
    "            lista_irrelevante[contador_irr] = lista_irrelevante[contador_irr].replace(w,'')\n",
    "            \n",
    "    contador_irr+=1"
   ]
  },
  {
   "cell_type": "code",
   "execution_count": null,
   "metadata": {},
   "outputs": [],
   "source": []
  },
  {
   "cell_type": "markdown",
   "metadata": {},
   "source": [
    "___\n",
    "### Concluindo"
   ]
  },
  {
   "cell_type": "code",
   "execution_count": null,
   "metadata": {},
   "outputs": [],
   "source": []
  },
  {
   "cell_type": "code",
   "execution_count": null,
   "metadata": {},
   "outputs": [],
   "source": []
  },
  {
   "cell_type": "code",
   "execution_count": null,
   "metadata": {},
   "outputs": [],
   "source": []
  },
  {
   "cell_type": "markdown",
   "metadata": {},
   "source": [
    "___\n",
    "### Qualidade do Classificador a partir de novas separações dos tweets entre Treinamento e Teste\n",
    "\n",
    "Caso for fazer esse item do Projeto"
   ]
  },
  {
   "cell_type": "code",
   "execution_count": null,
   "metadata": {},
   "outputs": [],
   "source": []
  },
  {
   "cell_type": "code",
   "execution_count": null,
   "metadata": {},
   "outputs": [],
   "source": []
  },
  {
   "cell_type": "code",
   "execution_count": null,
   "metadata": {},
   "outputs": [],
   "source": []
  },
  {
   "cell_type": "markdown",
   "metadata": {},
   "source": [
    "___\n",
    "## Aperfeiçoamento:\n",
    "\n",
    "Os trabalhos vão evoluir em conceito dependendo da quantidade de itens avançados:\n",
    "\n",
    "* Limpar: \\n, :, \", ', (, ), etc SEM remover emojis\n",
    "* Corrigir separação de espaços entre palavras e emojis ou entre emojis e emojis\n",
    "* Propor outras limpezas e transformações que não afetem a qualidade da informação ou classificação\n",
    "* Criar categorias intermediárias de relevância baseadas na probabilidade: ex.: muito relevante, relevante, neutro, irrelevante, muito irrelevante (3 categorias: C, mais categorias conta para B)\n",
    "* Explicar por que não posso usar o próprio classificador para gerar mais amostras de treinamento\n",
    "* Propor diferentes cenários para Naïve Bayes fora do contexto do projeto\n",
    "* Sugerir e explicar melhorias reais com indicações concretas de como implementar (indicar como fazer e indicar material de pesquisa)\n"
   ]
  },
  {
   "cell_type": "markdown",
   "metadata": {},
   "source": [
    "___\n",
    "## Referências"
   ]
  },
  {
   "cell_type": "markdown",
   "metadata": {},
   "source": [
    "[Naive Bayes and Text Classification](https://arxiv.org/pdf/1410.5329.pdf)  **Mais completo**\n",
    "\n",
    "[A practical explanation of a Naive Bayes Classifier](https://monkeylearn.com/blog/practical-explanation-naive-bayes-classifier/) **Mais simples**"
   ]
  },
  {
   "cell_type": "code",
   "execution_count": null,
   "metadata": {},
   "outputs": [],
   "source": []
  }
 ],
 "metadata": {
  "kernelspec": {
   "display_name": "Python 3",
   "language": "python",
   "name": "python3"
  },
  "language_info": {
   "codemirror_mode": {
    "name": "ipython",
    "version": 3
   },
   "file_extension": ".py",
   "mimetype": "text/x-python",
   "name": "python",
   "nbconvert_exporter": "python",
   "pygments_lexer": "ipython3",
   "version": "3.8.3"
  }
 },
 "nbformat": 4,
 "nbformat_minor": 4
}
