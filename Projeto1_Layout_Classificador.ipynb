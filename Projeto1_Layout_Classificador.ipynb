{
 "cells": [
  {
   "cell_type": "markdown",
   "metadata": {},
   "source": [
    "# Projeto 1 - Ciência dos Dados"
   ]
  },
  {
   "cell_type": "markdown",
   "metadata": {},
   "source": [
    "Nome: Adney Costa Moura\n",
    "\n",
    "Nome: Lister Ogusuku Ribeiro"
   ]
  },
  {
   "cell_type": "markdown",
   "metadata": {},
   "source": [
    "Atenção: Serão permitidos grupos de três pessoas, mas com uma rubrica mais exigente. Grupos deste tamanho precisarão fazer um questionário de avaliação de trabalho em equipe"
   ]
  },
  {
   "cell_type": "markdown",
   "metadata": {},
   "source": [
    "___\n",
    "Carregando algumas bibliotecas:"
   ]
  },
  {
   "cell_type": "code",
   "execution_count": 1,
   "metadata": {},
   "outputs": [],
   "source": [
    "%matplotlib inline\n",
    "import pandas as pd\n",
    "import matplotlib.pyplot as plt\n",
    "import numpy as np\n",
    "import os"
   ]
  },
  {
   "cell_type": "code",
   "execution_count": 2,
   "metadata": {
    "scrolled": false
   },
   "outputs": [
    {
     "name": "stdout",
     "output_type": "stream",
     "text": [
      "Esperamos trabalhar no diretório\n",
      "C:\\Users\\adney\\OneDrive\\Documentos\\2° semestre - Insper\\Ciência dos Dados\\ProjetoCdados_AdneyLister\n"
     ]
    }
   ],
   "source": [
    "print('Esperamos trabalhar no diretório')\n",
    "print(os.getcwd())"
   ]
  },
  {
   "cell_type": "markdown",
   "metadata": {},
   "source": [
    "Carregando a base de dados com os tweets classificados como relevantes e não relevantes:"
   ]
  },
  {
   "cell_type": "code",
   "execution_count": 3,
   "metadata": {},
   "outputs": [],
   "source": [
    "filename = 'nubank.xlsx'"
   ]
  },
  {
   "cell_type": "code",
   "execution_count": 4,
   "metadata": {},
   "outputs": [
    {
     "data": {
      "text/html": [
       "<div>\n",
       "<style scoped>\n",
       "    .dataframe tbody tr th:only-of-type {\n",
       "        vertical-align: middle;\n",
       "    }\n",
       "\n",
       "    .dataframe tbody tr th {\n",
       "        vertical-align: top;\n",
       "    }\n",
       "\n",
       "    .dataframe thead th {\n",
       "        text-align: right;\n",
       "    }\n",
       "</style>\n",
       "<table border=\"1\" class=\"dataframe\">\n",
       "  <thead>\n",
       "    <tr style=\"text-align: right;\">\n",
       "      <th></th>\n",
       "      <th>Treinamento</th>\n",
       "      <th>Relevância</th>\n",
       "    </tr>\n",
       "  </thead>\n",
       "  <tbody>\n",
       "    <tr>\n",
       "      <th>0</th>\n",
       "      <td>@nubank você me ilude tão bem 🤩🤩🤩</td>\n",
       "      <td>0</td>\n",
       "    </tr>\n",
       "    <tr>\n",
       "      <th>1</th>\n",
       "      <td>vou ter que fazer parcelamento da parcela, eu ...</td>\n",
       "      <td>0</td>\n",
       "    </tr>\n",
       "    <tr>\n",
       "      <th>2</th>\n",
       "      <td>@hs_ramao @nubank aumentaram o meu e eu nem us...</td>\n",
       "      <td>1</td>\n",
       "    </tr>\n",
       "    <tr>\n",
       "      <th>3</th>\n",
       "      <td>hoje eu mal acordei e tava pegando ônibus o re...</td>\n",
       "      <td>0</td>\n",
       "    </tr>\n",
       "    <tr>\n",
       "      <th>4</th>\n",
       "      <td>🤣🤣🤣 @nubank vamos amigar https://t.co/7k6syhkxf0</td>\n",
       "      <td>0</td>\n",
       "    </tr>\n",
       "  </tbody>\n",
       "</table>\n",
       "</div>"
      ],
      "text/plain": [
       "                                         Treinamento  Relevância\n",
       "0                  @nubank você me ilude tão bem 🤩🤩🤩           0\n",
       "1  vou ter que fazer parcelamento da parcela, eu ...           0\n",
       "2  @hs_ramao @nubank aumentaram o meu e eu nem us...           1\n",
       "3  hoje eu mal acordei e tava pegando ônibus o re...           0\n",
       "4   🤣🤣🤣 @nubank vamos amigar https://t.co/7k6syhkxf0           0"
      ]
     },
     "execution_count": 4,
     "metadata": {},
     "output_type": "execute_result"
    }
   ],
   "source": [
    "train = pd.read_excel(filename)\n",
    "train.head(5)"
   ]
  },
  {
   "cell_type": "code",
   "execution_count": 5,
   "metadata": {
    "scrolled": true
   },
   "outputs": [
    {
     "data": {
      "text/html": [
       "<div>\n",
       "<style scoped>\n",
       "    .dataframe tbody tr th:only-of-type {\n",
       "        vertical-align: middle;\n",
       "    }\n",
       "\n",
       "    .dataframe tbody tr th {\n",
       "        vertical-align: top;\n",
       "    }\n",
       "\n",
       "    .dataframe thead th {\n",
       "        text-align: right;\n",
       "    }\n",
       "</style>\n",
       "<table border=\"1\" class=\"dataframe\">\n",
       "  <thead>\n",
       "    <tr style=\"text-align: right;\">\n",
       "      <th></th>\n",
       "      <th>Teste</th>\n",
       "      <th>Relevância</th>\n",
       "    </tr>\n",
       "  </thead>\n",
       "  <tbody>\n",
       "    <tr>\n",
       "      <th>0</th>\n",
       "      <td>@ogustamlk gu, obrigado por nos avisar sobre i...</td>\n",
       "      <td>0</td>\n",
       "    </tr>\n",
       "    <tr>\n",
       "      <th>1</th>\n",
       "      <td>@nubank nubank libera logo meu cartao de crédi...</td>\n",
       "      <td>1</td>\n",
       "    </tr>\n",
       "    <tr>\n",
       "      <th>2</th>\n",
       "      <td>nubank foi o melhor cartão que eu já fiz até h...</td>\n",
       "      <td>1</td>\n",
       "    </tr>\n",
       "    <tr>\n",
       "      <th>3</th>\n",
       "      <td>@nubank quer casar cmg?</td>\n",
       "      <td>0</td>\n",
       "    </tr>\n",
       "    <tr>\n",
       "      <th>4</th>\n",
       "      <td>aeeee carai, nubank aceitou meu crédito :3</td>\n",
       "      <td>1</td>\n",
       "    </tr>\n",
       "  </tbody>\n",
       "</table>\n",
       "</div>"
      ],
      "text/plain": [
       "                                               Teste  Relevância\n",
       "0  @ogustamlk gu, obrigado por nos avisar sobre i...           0\n",
       "1  @nubank nubank libera logo meu cartao de crédi...           1\n",
       "2  nubank foi o melhor cartão que eu já fiz até h...           1\n",
       "3                            @nubank quer casar cmg?           0\n",
       "4         aeeee carai, nubank aceitou meu crédito :3           1"
      ]
     },
     "execution_count": 5,
     "metadata": {},
     "output_type": "execute_result"
    }
   ],
   "source": [
    "test = pd.read_excel(filename, sheet_name = 'Teste')\n",
    "test.head(5)"
   ]
  },
  {
   "cell_type": "markdown",
   "metadata": {},
   "source": [
    "___\n",
    "## Classificador automático de sentimento\n"
   ]
  },
  {
   "cell_type": "markdown",
   "metadata": {},
   "source": [
    "Faça aqui uma descrição do seu produto e o que considerou como relevante ou não relevante na classificação dos tweets.\n",
    "\n",
    "Nosso produto foi a startup de serviços financeiros Nubank. Consideramos como relevante as operações que envolvem o limite de crédito, interação com o cliente e reclamações."
   ]
  },
  {
   "cell_type": "markdown",
   "metadata": {},
   "source": [
    "___\n",
    "### Montando um Classificador Naive-Bayes\n",
    "\n",
    "Considerando apenas as mensagens da planilha Treinamento, ensine  seu classificador."
   ]
  },
  {
   "cell_type": "code",
   "execution_count": 6,
   "metadata": {},
   "outputs": [],
   "source": [
    "# https://docs.python.org/3/library/re.html#\n",
    "import re \n",
    "\n",
    "\n",
    "def cleanup(text):\n",
    "    \"\"\"\n",
    "        Função de limpeza muito simples que troca alguns sinais básicos por espaços\n",
    "    \"\"\"\n",
    "    #import string\n",
    "    punctuation = '[!-.:?;]' # Note que os sinais [] são delimitadores de um conjunto.\n",
    "    pattern = re.compile(punctuation)\n",
    "    text_subbed = re.sub(pattern, '', text)\n",
    "    return text_subbed"
   ]
  },
  {
   "cell_type": "code",
   "execution_count": 7,
   "metadata": {},
   "outputs": [],
   "source": [
    "# Separando cada row do data frame, fazendo um split das palavras e limpando cada frase. Além disso foi filtrado cada row\n",
    "# as listas de relevância.\n",
    "lista_relevante = []\n",
    "lista_irrelevante = []\n",
    "\n",
    "for i in range(0,500):\n",
    "    # Separando os rows do DataFrame\n",
    "    x = cleanup(train.Treinamento[i]).lower().split()\n",
    " \n",
    "    if train.iloc[i,1] == 1:\n",
    "        j = 0\n",
    "        while j < len(x):\n",
    "            lista_relevante.append(x[j])\n",
    "            j+=1\n",
    "        \n",
    "    else:\n",
    "        k = 0\n",
    "        while k < len(x):\n",
    "            lista_irrelevante.append(x[k])\n",
    "            k+=1"
   ]
  },
  {
   "cell_type": "markdown",
   "metadata": {},
   "source": [
    "# Tweets Relevantes"
   ]
  },
  {
   "cell_type": "code",
   "execution_count": 8,
   "metadata": {
    "scrolled": true
   },
   "outputs": [
    {
     "data": {
      "text/plain": [
       "0     @hs_ramao\n",
       "1       @nubank\n",
       "2    aumentaram\n",
       "3             o\n",
       "4           meu\n",
       "dtype: object"
      ]
     },
     "execution_count": 8,
     "metadata": {},
     "output_type": "execute_result"
    }
   ],
   "source": [
    "# Guardando as palavras como um pd.Series\n",
    "serie_relevante = pd.Series(lista_relevante)\n",
    "serie_relevante.head()"
   ]
  },
  {
   "cell_type": "markdown",
   "metadata": {},
   "source": [
    "##### Frequências Absolutas"
   ]
  },
  {
   "cell_type": "code",
   "execution_count": 9,
   "metadata": {
    "scrolled": false
   },
   "outputs": [
    {
     "data": {
      "text/plain": [
       "@nubank     135\n",
       "o           117\n",
       "nubank       97\n",
       "de           95\n",
       "meu          94\n",
       "           ... \n",
       "pandemia      1\n",
       "puxo          1\n",
       "flw           1\n",
       "perdeu        1\n",
       "😱             1\n",
       "Length: 1091, dtype: int64"
      ]
     },
     "execution_count": 9,
     "metadata": {},
     "output_type": "execute_result"
    }
   ],
   "source": [
    "tabela_relevante_absoluta = serie_relevante.value_counts()\n",
    "tabela_relevante_absoluta"
   ]
  },
  {
   "cell_type": "markdown",
   "metadata": {},
   "source": [
    "##### Frequências Relativas"
   ]
  },
  {
   "cell_type": "code",
   "execution_count": 10,
   "metadata": {},
   "outputs": [
    {
     "data": {
      "text/plain": [
       "@nubank     0.038516\n",
       "o           0.033381\n",
       "nubank      0.027675\n",
       "de          0.027104\n",
       "meu         0.026819\n",
       "              ...   \n",
       "pandemia    0.000285\n",
       "puxo        0.000285\n",
       "flw         0.000285\n",
       "perdeu      0.000285\n",
       "😱           0.000285\n",
       "Length: 1091, dtype: float64"
      ]
     },
     "execution_count": 10,
     "metadata": {},
     "output_type": "execute_result"
    }
   ],
   "source": [
    "tabela_relevante_relativa = serie_relevante.value_counts(True)\n",
    "tabela_relevante_relativa"
   ]
  },
  {
   "cell_type": "markdown",
   "metadata": {},
   "source": [
    "# Tweets Irrelevantes"
   ]
  },
  {
   "cell_type": "code",
   "execution_count": 11,
   "metadata": {},
   "outputs": [
    {
     "data": {
      "text/plain": [
       "0    @nubank\n",
       "1       você\n",
       "2         me\n",
       "3      ilude\n",
       "4        tão\n",
       "dtype: object"
      ]
     },
     "execution_count": 11,
     "metadata": {},
     "output_type": "execute_result"
    }
   ],
   "source": [
    "# Guardando as palavras como um pd.Series\n",
    "serie_irrelevante = pd.Series(lista_irrelevante)\n",
    "serie_irrelevante.head()"
   ]
  },
  {
   "cell_type": "markdown",
   "metadata": {},
   "source": [
    "##### Frequências Absolutas"
   ]
  },
  {
   "cell_type": "code",
   "execution_count": 12,
   "metadata": {},
   "outputs": [
    {
     "data": {
      "text/plain": [
       "de             132\n",
       "@nubank        125\n",
       "o              116\n",
       "que            109\n",
       "a              106\n",
       "              ... \n",
       "gentileza        1\n",
       "black            1\n",
       "quintafeira      1\n",
       "mandar           1\n",
       "morrendo         1\n",
       "Length: 1780, dtype: int64"
      ]
     },
     "execution_count": 12,
     "metadata": {},
     "output_type": "execute_result"
    }
   ],
   "source": [
    "tabela_irrelevante_absoluta = serie_irrelevante.value_counts()\n",
    "tabela_irrelevante_absoluta"
   ]
  },
  {
   "cell_type": "markdown",
   "metadata": {},
   "source": [
    "##### Frequências Relativas"
   ]
  },
  {
   "cell_type": "code",
   "execution_count": 13,
   "metadata": {
    "scrolled": true
   },
   "outputs": [
    {
     "data": {
      "text/plain": [
       "de             0.025414\n",
       "@nubank        0.024066\n",
       "o              0.022333\n",
       "que            0.020986\n",
       "a              0.020408\n",
       "                 ...   \n",
       "gentileza      0.000193\n",
       "black          0.000193\n",
       "quintafeira    0.000193\n",
       "mandar         0.000193\n",
       "morrendo       0.000193\n",
       "Length: 1780, dtype: float64"
      ]
     },
     "execution_count": 13,
     "metadata": {},
     "output_type": "execute_result"
    }
   ],
   "source": [
    "tabela_irrelevante_relativa = serie_irrelevante.value_counts(True)\n",
    "tabela_irrelevante_relativa"
   ]
  },
  {
   "cell_type": "markdown",
   "metadata": {},
   "source": [
    "# Tweets Totais"
   ]
  },
  {
   "cell_type": "code",
   "execution_count": 14,
   "metadata": {},
   "outputs": [],
   "source": [
    "total = lista_relevante + lista_irrelevante"
   ]
  },
  {
   "cell_type": "code",
   "execution_count": 15,
   "metadata": {},
   "outputs": [],
   "source": [
    "total_series = pd.Series(total)"
   ]
  },
  {
   "cell_type": "markdown",
   "metadata": {},
   "source": [
    "##### Frequências Absolutas"
   ]
  },
  {
   "cell_type": "code",
   "execution_count": 16,
   "metadata": {
    "scrolled": true
   },
   "outputs": [
    {
     "data": {
      "text/plain": [
       "@nubank      260\n",
       "o            233\n",
       "de           227\n",
       "nubank       191\n",
       "que          166\n",
       "            ... \n",
       "disse          1\n",
       "hyyh           1\n",
       "chego          1\n",
       "responder      1\n",
       "morrendo       1\n",
       "Length: 2392, dtype: int64"
      ]
     },
     "execution_count": 16,
     "metadata": {},
     "output_type": "execute_result"
    }
   ],
   "source": [
    "tabela_total = total_series.value_counts()\n",
    "tabela_total"
   ]
  },
  {
   "cell_type": "markdown",
   "metadata": {},
   "source": [
    "##### Frequências Relativas"
   ]
  },
  {
   "cell_type": "code",
   "execution_count": 17,
   "metadata": {},
   "outputs": [
    {
     "data": {
      "text/plain": [
       "@nubank      0.029888\n",
       "o            0.026785\n",
       "de           0.026095\n",
       "nubank       0.021957\n",
       "que          0.019083\n",
       "               ...   \n",
       "disse        0.000115\n",
       "hyyh         0.000115\n",
       "chego        0.000115\n",
       "responder    0.000115\n",
       "morrendo     0.000115\n",
       "Length: 2392, dtype: float64"
      ]
     },
     "execution_count": 17,
     "metadata": {},
     "output_type": "execute_result"
    }
   ],
   "source": [
    "tabela_total_relativa = total_series.value_counts(True)\n",
    "tabela_total_relativa"
   ]
  },
  {
   "cell_type": "markdown",
   "metadata": {},
   "source": [
    "___\n",
    "### Verificando a performance do Classificador\n",
    "\n",
    "Agora você deve testar o seu classificador com a base de Testes."
   ]
  },
  {
   "cell_type": "code",
   "execution_count": 18,
   "metadata": {},
   "outputs": [],
   "source": [
    "lista_test = []\n",
    "lista_relevante_test = []\n",
    "lista_irrelevante_test = []\n",
    "\n",
    "for i in range(0,300):\n",
    "    x = cleanup(test.Teste[i]).lower().split()\n",
    "    \n",
    "    lista_test.append(x)\n",
    "    \n",
    "    if train.iloc[i,1] == 1:\n",
    "        j = 0\n",
    "        while j < len(x):\n",
    "            lista_relevante_test.append(x[j])\n",
    "            j+=1\n",
    "        \n",
    "    else:\n",
    "        k = 0\n",
    "        while k < len(x):\n",
    "            lista_irrelevante_test.append(x[k])\n",
    "            k+=1"
   ]
  },
  {
   "cell_type": "code",
   "execution_count": 19,
   "metadata": {},
   "outputs": [
    {
     "data": {
      "text/html": [
       "<div>\n",
       "<style scoped>\n",
       "    .dataframe tbody tr th:only-of-type {\n",
       "        vertical-align: middle;\n",
       "    }\n",
       "\n",
       "    .dataframe tbody tr th {\n",
       "        vertical-align: top;\n",
       "    }\n",
       "\n",
       "    .dataframe thead th {\n",
       "        text-align: right;\n",
       "    }\n",
       "</style>\n",
       "<table border=\"1\" class=\"dataframe\">\n",
       "  <thead>\n",
       "    <tr style=\"text-align: right;\">\n",
       "      <th></th>\n",
       "      <th>Teste</th>\n",
       "      <th>Relevância</th>\n",
       "      <th>Relevância_Classificador</th>\n",
       "    </tr>\n",
       "  </thead>\n",
       "  <tbody>\n",
       "    <tr>\n",
       "      <th>0</th>\n",
       "      <td>@ogustamlk gu, obrigado por nos avisar sobre i...</td>\n",
       "      <td>0</td>\n",
       "      <td>a</td>\n",
       "    </tr>\n",
       "    <tr>\n",
       "      <th>1</th>\n",
       "      <td>@nubank nubank libera logo meu cartao de crédi...</td>\n",
       "      <td>1</td>\n",
       "      <td>a</td>\n",
       "    </tr>\n",
       "    <tr>\n",
       "      <th>2</th>\n",
       "      <td>nubank foi o melhor cartão que eu já fiz até h...</td>\n",
       "      <td>1</td>\n",
       "      <td>a</td>\n",
       "    </tr>\n",
       "    <tr>\n",
       "      <th>3</th>\n",
       "      <td>@nubank quer casar cmg?</td>\n",
       "      <td>0</td>\n",
       "      <td>a</td>\n",
       "    </tr>\n",
       "    <tr>\n",
       "      <th>4</th>\n",
       "      <td>aeeee carai, nubank aceitou meu crédito :3</td>\n",
       "      <td>1</td>\n",
       "      <td>a</td>\n",
       "    </tr>\n",
       "  </tbody>\n",
       "</table>\n",
       "</div>"
      ],
      "text/plain": [
       "                                               Teste  Relevância  \\\n",
       "0  @ogustamlk gu, obrigado por nos avisar sobre i...           0   \n",
       "1  @nubank nubank libera logo meu cartao de crédi...           1   \n",
       "2  nubank foi o melhor cartão que eu já fiz até h...           1   \n",
       "3                            @nubank quer casar cmg?           0   \n",
       "4         aeeee carai, nubank aceitou meu crédito :3           1   \n",
       "\n",
       "  Relevância_Classificador  \n",
       "0                        a  \n",
       "1                        a  \n",
       "2                        a  \n",
       "3                        a  \n",
       "4                        a  "
      ]
     },
     "execution_count": 19,
     "metadata": {},
     "output_type": "execute_result"
    }
   ],
   "source": [
    "test[\"Relevância_Classificador\"] = 'a'\n",
    "test.head()"
   ]
  },
  {
   "cell_type": "code",
   "execution_count": 20,
   "metadata": {},
   "outputs": [],
   "source": [
    "contador = 0\n",
    "Pr = len(lista_relevante)/len(total)\n",
    "Pi = len(lista_irrelevante)/len(total)\n",
    "Prob_d_ser_relevante = []\n",
    "Prob_d_ser_irrelevante = []\n",
    "\n",
    "while contador < len(lista_test):\n",
    "    \n",
    "    acumulador_relevante = 1\n",
    "    acumulador_irrelevante = 1\n",
    "\n",
    "    for h in lista_test[contador]:\n",
    "\n",
    "        if h not in lista_relevante:\n",
    "            tabela_relevante_absoluta[h] = 0\n",
    "\n",
    "        if h not in lista_irrelevante:\n",
    "            tabela_irrelevante_absoluta[h] = 0\n",
    "\n",
    "        acumulador_relevante *= ( tabela_relevante_absoluta[h] + 1 ) / ( len(lista_relevante) + len(total) )\n",
    "        acumulador_irrelevante *= ( tabela_irrelevante_absoluta[h] + 1 ) / ( len(lista_irrelevante) + len(total) ) \n",
    "      \n",
    "        \n",
    "    # Probabilidades\n",
    "    Prob_d_ser_relevante.append(Pr*acumulador_relevante)\n",
    "    Prob_d_ser_irrelevante.append(Pi*acumulador_irrelevante)\n",
    "\n",
    "    if Prob_d_ser_relevante[contador] > Prob_d_ser_irrelevante[contador]:\n",
    "        test.loc[contador,[\"Relevância_Classificador\"]] = 1\n",
    "\n",
    "    else:\n",
    "        test.loc[contador,[\"Relevância_Classificador\"]] = 0\n",
    "        \n",
    "    contador = contador + 1"
   ]
  },
  {
   "cell_type": "code",
   "execution_count": 21,
   "metadata": {
    "scrolled": true
   },
   "outputs": [
    {
     "data": {
      "text/html": [
       "<div>\n",
       "<style scoped>\n",
       "    .dataframe tbody tr th:only-of-type {\n",
       "        vertical-align: middle;\n",
       "    }\n",
       "\n",
       "    .dataframe tbody tr th {\n",
       "        vertical-align: top;\n",
       "    }\n",
       "\n",
       "    .dataframe thead th {\n",
       "        text-align: right;\n",
       "    }\n",
       "</style>\n",
       "<table border=\"1\" class=\"dataframe\">\n",
       "  <thead>\n",
       "    <tr style=\"text-align: right;\">\n",
       "      <th></th>\n",
       "      <th>Teste</th>\n",
       "      <th>Relevância</th>\n",
       "      <th>Relevância_Classificador</th>\n",
       "    </tr>\n",
       "  </thead>\n",
       "  <tbody>\n",
       "    <tr>\n",
       "      <th>0</th>\n",
       "      <td>@ogustamlk gu, obrigado por nos avisar sobre i...</td>\n",
       "      <td>0</td>\n",
       "      <td>0</td>\n",
       "    </tr>\n",
       "    <tr>\n",
       "      <th>1</th>\n",
       "      <td>@nubank nubank libera logo meu cartao de crédi...</td>\n",
       "      <td>1</td>\n",
       "      <td>1</td>\n",
       "    </tr>\n",
       "    <tr>\n",
       "      <th>2</th>\n",
       "      <td>nubank foi o melhor cartão que eu já fiz até h...</td>\n",
       "      <td>1</td>\n",
       "      <td>0</td>\n",
       "    </tr>\n",
       "    <tr>\n",
       "      <th>3</th>\n",
       "      <td>@nubank quer casar cmg?</td>\n",
       "      <td>0</td>\n",
       "      <td>1</td>\n",
       "    </tr>\n",
       "    <tr>\n",
       "      <th>4</th>\n",
       "      <td>aeeee carai, nubank aceitou meu crédito :3</td>\n",
       "      <td>1</td>\n",
       "      <td>1</td>\n",
       "    </tr>\n",
       "  </tbody>\n",
       "</table>\n",
       "</div>"
      ],
      "text/plain": [
       "                                               Teste  Relevância  \\\n",
       "0  @ogustamlk gu, obrigado por nos avisar sobre i...           0   \n",
       "1  @nubank nubank libera logo meu cartao de crédi...           1   \n",
       "2  nubank foi o melhor cartão que eu já fiz até h...           1   \n",
       "3                            @nubank quer casar cmg?           0   \n",
       "4         aeeee carai, nubank aceitou meu crédito :3           1   \n",
       "\n",
       "  Relevância_Classificador  \n",
       "0                        0  \n",
       "1                        1  \n",
       "2                        0  \n",
       "3                        1  \n",
       "4                        1  "
      ]
     },
     "execution_count": 21,
     "metadata": {},
     "output_type": "execute_result"
    }
   ],
   "source": [
    "test.head()"
   ]
  },
  {
   "cell_type": "markdown",
   "metadata": {},
   "source": [
    "##### Analisando o Classificador"
   ]
  },
  {
   "cell_type": "code",
   "execution_count": 22,
   "metadata": {},
   "outputs": [],
   "source": [
    "Verdadeiros_Positivos = test.loc[(test[\"Relevância\"] == 1) & (test[\"Relevância_Classificador\"] == 1), :]\n",
    "Falsos_Positivos = test.loc[(test[\"Relevância\"] == 0) & (test[\"Relevância_Classificador\"] == 1), :]\n",
    "Verdadeiros_Negativos = test.loc[(test[\"Relevância\"] == 0) & (test[\"Relevância_Classificador\"] == 0), :]\n",
    "Falsos_Negativos = test.loc[(test[\"Relevância\"] == 1) & (test[\"Relevância_Classificador\"] == 0), :]"
   ]
  },
  {
   "cell_type": "code",
   "execution_count": 23,
   "metadata": {},
   "outputs": [
    {
     "data": {
      "text/html": [
       "<div>\n",
       "<style scoped>\n",
       "    .dataframe tbody tr th:only-of-type {\n",
       "        vertical-align: middle;\n",
       "    }\n",
       "\n",
       "    .dataframe tbody tr th {\n",
       "        vertical-align: top;\n",
       "    }\n",
       "\n",
       "    .dataframe thead th {\n",
       "        text-align: right;\n",
       "    }\n",
       "</style>\n",
       "<table border=\"1\" class=\"dataframe\">\n",
       "  <thead>\n",
       "    <tr style=\"text-align: right;\">\n",
       "      <th>Relevância_Classificador</th>\n",
       "      <th>0</th>\n",
       "      <th>1</th>\n",
       "    </tr>\n",
       "    <tr>\n",
       "      <th>Relevância</th>\n",
       "      <th></th>\n",
       "      <th></th>\n",
       "    </tr>\n",
       "  </thead>\n",
       "  <tbody>\n",
       "    <tr>\n",
       "      <th>0</th>\n",
       "      <td>40.000000</td>\n",
       "      <td>19.333333</td>\n",
       "    </tr>\n",
       "    <tr>\n",
       "      <th>1</th>\n",
       "      <td>11.666667</td>\n",
       "      <td>29.000000</td>\n",
       "    </tr>\n",
       "  </tbody>\n",
       "</table>\n",
       "</div>"
      ],
      "text/plain": [
       "Relevância_Classificador          0          1\n",
       "Relevância                                    \n",
       "0                         40.000000  19.333333\n",
       "1                         11.666667  29.000000"
      ]
     },
     "execution_count": 23,
     "metadata": {},
     "output_type": "execute_result"
    }
   ],
   "source": [
    "pd.crosstab(test[\"Relevância\"] , test[\"Relevância_Classificador\"], normalize=True)*100"
   ]
  },
  {
   "cell_type": "markdown",
   "metadata": {},
   "source": [
    "##### Melhorando a limpeza dos tweets"
   ]
  },
  {
   "cell_type": "code",
   "execution_count": 24,
   "metadata": {},
   "outputs": [],
   "source": [
    "#print(lista_relevante)"
   ]
  },
  {
   "cell_type": "code",
   "execution_count": 25,
   "metadata": {},
   "outputs": [],
   "source": [
    "# Limpando @ e links\n",
    "\n",
    "contador_r = 0\n",
    "contador_irr = 0\n",
    "\n",
    "while contador_r < len(lista_relevante):\n",
    "    \n",
    "    if lista_relevante[contador_r][0:5] == 'https':\n",
    "        del(lista_relevante[contador_r])\n",
    "        \n",
    "    for s in lista_relevante[contador_r]:\n",
    "        if s == '@':\n",
    "            lista_relevante[contador_r] = lista_relevante[contador_r].replace(s,'')\n",
    "    contador_r+=1\n",
    "\n",
    "\n",
    "while contador_irr < len(lista_irrelevante):\n",
    "    for w in lista_irrelevante[contador_irr]:\n",
    "        if w == '@':\n",
    "            lista_irrelevante[contador_irr] = lista_irrelevante[contador_irr].replace(w,'')\n",
    "    contador_irr+=1"
   ]
  },
  {
   "cell_type": "code",
   "execution_count": 26,
   "metadata": {},
   "outputs": [
    {
     "name": "stdout",
     "output_type": "stream",
     "text": [
      "['hs_ramao', 'nubank', 'aumentaram', 'o', 'meu', 'e', 'eu', 'nem', 'uso', 'nubank', 'é', 'aceito', 'no', 'google', 'pay', 'e', 'no', 'apple', 'pay', 'não', 'gabriielxavier', 'nubank', 'usar', 'nubank', 'é', 'um', 'caminho', 'que', 'não', 'tem', 'mais', 'volta', 'osamzito_', 'eu', 'to', 'desse', 'jeito', 'nubank', 'por', 'favor', 'por', 'favor', 'por', 'favor', 'por', 'favor', 'deixa', 'eu', 'abri', 'uma', 'conta', 'n', 'aguento', 'mais', 'o', 'picpay', 'nubank', 'me', 'ligou', 'kkkkkkk', 'nunca', 'um', 'atendente', 'foi', 'tão', 'amorzinho', 'cmg', 'como', 'esse', 'fiquei', 'moço', 'um', 'cheiro', 'moço', 'launbkgh', 'nós', 'também', 'te', 'amamos', 'e', 'muito', 'conta', 'com', 'a', 'gente', '💜', 'oi', 'nubank', 'aumenta', 'meu', 'limite', 'aí', 'tô', 'precisando', 'mas', 'vocês', 'não', 'me', 'ajudam', '🥺', 'renataa94570590', 'nubank', 'essa', 'questão', 'do', 'aumento', 'eu', 'já', 'desisti', 'estou', 'contente', 'só', 'com', 'os', '70', 'reais', 'nubank', 'aumentou', 'mais', 'o', 'meu', 'limite', 'pra', 'quê', 'pra', 'fude', 'minha', 'vida', 'musabronzeada', 'annaflhira', '_nielsengaldino', 'c6bank', 'nubank', 'foi', 'kkkkk', 'eu', 'nem', 'ligo', 'o', 'meu', 'do', 'bb', 'é', 'mil', 'nubank', 'queroa', 'apenas', 'que', 'vcs', 'resoindessem', 'minha', 'dm', 'nubank', 'meu', 'débito', 'já', 'tem', 'qusse', 'um', 'ano', 'por', 'favor', 'me', 'dê', 'o', 'crédito', 'eu', 'falo', 'tão', 'bem', 'de', 'vcs', 'p', 'todo', 'mundo', 'baldpreta', 'só', 'o', 'nubank', 'o', 'inter', 'next', 'e', 'c6', 'não', 'cobram', 'nubank', 'esperando', 'ansiosamente', 'por', 'um', 'projeto', 'de', 'cryptomoeda', 'propria', 'da', 'nubank', 'isa_kawane5', 'faz', 'assim', 'vai', 'usando', 'o', 'limite', 'que', 'cê', 'tem', 'e', 'quando', 'for', 'pagar', 'a', 'fatura', 'cê', 'paga', 'pelo', 'próprio', 'app', 'do', 'nubank', 'paga', 'adiantado', 'tbm', 'ai', 'eles', 'aumentam', 'nubank', 'aumenta', 'meu', 'limite', 'pelo', 'amor', 'de', 'deus', 'oque', 'eu', 'vou', 'fazer', 'só', 'com', '50', 'conto', 'bixo', 'nubank', 'da', 'última', 'vez', 'que', 'tentei', 'viajar', 'meu', 'cartão', 'foi', 'clonado', 'e', 'até', 'chegar', 'outro', 'nao', 'consegui', 'ir😌', 'nubank', 'acabou', 'de', 'aumentar', 'meu', 'limite', 'pra', '400🥳🥳🥳🥳🥳', 'nubank', 'me', 'libera', 'um', 'empréstimo', 'pra', 'eu', 'comprar', 'um', 'ps4', 'a', 'vista', 'aí', 'por', 'favor', 'kakadizy', 'nubank', 'é', 'otimo', 'p', 'resolver', 'os', 'problemas', 'inter', 'é', 'uma', 'bosta', 'next', 'também', 'ja', 'paguei', 'a', 'fatura', 'de', 'dezembro', 'devolve', 'meu', 'crédito', 'nunca', 'te', 'pedi', 'mada', 'nubank', 'nubank', 'tem', 'que', 'marcar', 'os', '', 'da', 'análise', 'de', 'crédito', 'aqui', '😂😈', 'kzaccolon', 'não', 'fala', 'assim', 'do', 'meu', 'nubank', 'eles', 'estão', 'cuidando', 'de', 'você', 'quando', 'você', 'tiver', 'maturidade', 'eles', 'vão', 'disponibilizar', '5400', '😏', 'nubank', 'quita', 'meu', 'empréstimo', 'nunca', 'te', 'pedi', 'nada', '😅', 'nubank', 'então', 'liberam', 'para', 'limite', 'para', 'mim', 'estou', 'muito', 'tempo', 'na', 'espera', 'disso', 'em', 'nubank', '😉', 'nubank', 'não', 'aumenta', 'meu', 'limite', 'nunca', 'mais', 'nubank', 'aí', 'nubank', 'minhas', 'parcelas', 'não', 'somem', 'que', 'droga', 'só', 'pagando', 'mesmo', 'kill_exe', 'então', 'migo', 'não', 'depende', 'da', 'gente', 'mas', 'você', 'pode', 'pedir', 'lá', 'no', 'app', 'tá', 'bom', 'é', 'só', 'clicar', 'em', 'ajustar', 'limite', 'e', 'depois', 'em', 'pedir', 'aumento', 'de', 'limite', 'total', 'que', 'a', 'resposta', 'sai', 'na', 'hora', '😉💜', 'nubank', 'aumenta', 'meu', 'limite', 'aí', 'pô', '😍', 'ridículo', 'essa', 'tarifa', 'de', 'saque', 'de', 'r', '650', 'do', 'nubank', 'saquei', '2000', 'e', 'deixei', '700', 'para', 'passar', 'o', 'mês', 'agr', 'tô', 'com', '050', 'centavos', 'nubank', 'q', 'tarifinha', 'fdp', 'gebte', 'tem', 'como', 'eu', 'adiantar', 'o', 'pedido', 'do', 'cartao', 'de', 'crédito', 'da', 'nubank', 'n', 'nubank', 'social', 'media', 'sempre', 'os', 'melhores', '💜', 'thehenribeiro', 'esse', 'é', 'o', 'nosso', 'cartão', 'para', 'adicionar', 'limite', 'que', 'funciona', 'como', 'uma', 'porta', 'de', 'entrada', 'para', 'quem', 'quer', 'ter', 'um', 'cartão', 'de', 'crédito', '😉💜', 'vale', 'a', 'pena', 'conferir', 'o', 'nosso', 'blog', 'onde', 'explicamos', 'tudo', 'nubank', 'recebi', 'uma', 'resposta', 'automática', 'que', 'não', 'tem', 'nada', 'a', 'ver', 'com', 'meu', 'pedido', '😕', 'nubank', 'mercado', 'pago', 'e', 'google', 'criam', 'associação', 'para', 'inovar', 'no', 'setor', 'financeiro', '🇧🇷', 'eu', 'amo', 'o', 'social', 'media', 'do', 'nubank', 'hahahahaaj', 'é', 'mt', 'bom', 'nubank', 'aumenta', 'meu', 'limite', 'por', 'favor', 'vida😩', 'nubank', 'se', 'vocês', 'liberassem', 'o', 'limite', 'que', 'eu', 'tenho', 'em', 'todos', 'os', 'outros', 'cartões', 'pra', 'somar', 'no', 'roxinho', 'eu', 'cancelaria', 'todos', 'os', 'outros', 'sem', 'pensar', 'duas', 'vezes', 'e', 'ficaria', 'só', 'com', 'vocês', 'nubank', 'eu', 'amo', 'um', 'banco', 'digital', 'e', 'não', 'é', 'pouco', '💜', 'locaweb', 'nubank', 'o', 'atendimento', 'via', 'twitter', 'foi', 'o', 'unico', 'q', 'conseguiu', 'dar', 'uma', 'luz', 'para', 'o', 'problema', 'parabens', 'para', 'quem', 'me', 'atendeu', 'locaweb', 'nubank', 'o', 'que', 'é', 'preciso', 'fazer', 'pra', 'conseguir', 'aumentar', 'o', 'limite', 'do', 'meu', 'cartão', 'nubank', 'esse', 'social', 'media', 'podia', 'ter', 'mais', 'moral', 'no', 'nubank', 'só', 'achooo', 'junqueira_cris', 'corre', 'aqui', 'rápidinho', 'hehehehehe', 'o', 'susto', 'de', 'ver', 'meu', 'cartão', 'de', 'crédito', 'sendo', 'clonado', 'e', 'várias', 'compras', 'aparecerem', 'do', 'nada', 'e', 'o', 'alívio', 'de', 'conseguir', 'resolver', 'isso', 'rápido', 'com', 'o', 'serviço', 'do', 'nubank', 'nubank', 'kill_exe', 'eu', 'conheço', 'gente', 'com', '400', 'de', 'score', 'com', '2000', 'de', 'limite', 'e', 'eu', 'com', '800', 'não', 'tenho', 'nem', '1000', 'nubank', 'pô', 'nubank', 'aumenta', 'meu', 'limite', 'ai', 'r20000', 'dar', 'nem', 'pra', 'comprar', 'meu', 'gás', 'se', 'precisar', 'tivor_', 'nubank', 'usa', 'o', 'google', 'pay', '/', 'apple', 'pay', 'é', 'bem', 'melhor', 'pra', 'pagar', 'nas', 'maquininhas', 'o', 'contact', 'less', 'é', 'sem', 'sofrimento', 'e', 'não', 'precisa', 'ficar', 'pegando', 'em', 'maquininhas', 'potencialmente', 'contaminadas', '_gabrielschmitz', 'nubank', 'simplesmente', 'incrível', 'jooyceg', 'c6bank', 'eles', 'tem', 'um', 'banco', 'com', 'mais', 'opcoes', 'de', 'investimento', 'o', 'sistema', 'de', 'pontos', 'dele', 'é', 'bem', 'melhor', 'q', 'do', 'nubak', 'vc', 'pode', 'gerar', 'desconto', 'na', 'fatura', 'trocar', 'por', 'pordutos', 'milhas', 'etc', 'e', 'pontua', 'bem', 'melhor', 'que', 'no', 'nubank', 'e', 'nao', 'tem', 'custos', 'nubank', 'gostaria', 'de', 'um', 'limite', 'bom', 'para', 'construir', 'minha', 'casa', '🥰🥰', 'ritaduf', 'amiga', 'o', 'nubank', 'criou', 'um', 'seguro', 'de', 'vida', 'que', 'parece', 'que', 'cobre', 'viu', 'e', 'o', 'preço', 'inclusive', 'está', 'ótimo', 'nubank', 'aproveita', 'e', 'dobra', 'meu', 'limite', 'aí', '4', 'meses', 'tentando', 'aumentar', 'o', 'limite', 'da', 'nubank', 'nunca', 'consegui', 'perdi', 'o', 'emprego', 'o', 'banco', 'aumentou', 'meu', 'limite', '🤡🤡', 'meu', 'dinheiro', 'rendeu', '1', 'centavo', 'na', 'nubank', '🥺', 'nubank', '50', 'reais', 'de', 'limite', 'eu', 'uso', 'em', 'um', 'dia', 'me', 'da', 'mais', 'limite', 'carakho', 'nubank', 'começa', 'a', 'oferecer', 'financiamento', 'imobiliário', 'nunca', 'te', 'pedi', 'nada', 'nubank', 'depositei', 'o', 'holerite', 'do', 'meu', 'novo', 'salario', 'na', 'conta', 'da', 'nubank', 'se', 'meu', 'limite', 'nao', 'aumentar', 'eu', 'vou', 'desistir', 'cara', 'pq', 'nao', 'eh', 'possivel', 'isso', 'nubank', 'cade', 'meu', 'aumento', 'de', 'limite', '💜', '_lmilena', 'nubank', 'o', 'meu', 'negaram', 'aumentar', 'pq', 'n', 'uso', 'todo', 'meu', 'limite😢', 'santos_maarcos1', 'nubank', 'kkkkkkkkkkkkkkkkkk', 'pra', 'postar', 'brincadeirinhas', 'eles', 'tem', 'tempo', 'pra', 'aumentar', 'meu', 'limite', 'não', 'juaangabriel', 'muda', 'pro', 'nubank', 'bicho', 'nubank', 'o', 'meu', 'ainda', 'ta', 'no', 'r', '40000', 'mds', 'uso', 'mais', 'de', 'um', 'ano', 'kkkk\\U0001f972', '', 'nubank', 'libera', 'um', 'cartão', 'de', 'crédito', 'pra', 'mim', 'aí', 'carai', 'parabens', 'pra', 'mim', 'q', 'achava', 'q', 'tinha', 'q', 'ter', 'um', 'cartao', 'de', 'debito', 'e', 'outro', 'de', 'credito', 'do', 'nubank', 'sendo', 'q', 'era', 'so', 'ativar', 'o', 'credito', 'no', 'cartao', 'de', 'debito', 'v', 'nubank', 'provavelmente', 'eu', 'vou', 'cancelar', 'meu', 'crédito', 'não', 'aumenta', 'nunca', 'nubank', 'pode', 'aumentar', 'meu', 'limite', 'se', 'quiser', 'nubank', 'verdade', 'eu', 'entendo', 'mais', 'mudando', 'de', 'assunto', 'aumenta', 'meu', 'limite', 'aí', 'só', 'pra', 'mim', 'fazer', 'um', 'teste', 'aqui', '😘', 'krlh', 'era', 'pro', 'meu', 'cartão', 'da', 'nubank', 'ter', 'chegado', 'a', '1', 'mês', 'atrás', 'e', 'até', 'agr', 'nada', 'bora', 'nubank', 'agilizem', 'meu', 'atendimento', 'aí', 'que', 'meu', 'cartão', 'foi', 'clonado', '😡', 'nubank', 'então', 'aumenta', 'aí', 'meu', 'lim', 'já', 'desisti', 'de', 'pedi', 'aumento', 'vai', 'ser', 'o', 'jeito', 'eu', 'traí', 'o', 'nubank', '👀', 'alô', 'timeneon', 'tu', 'vai', 'ser', 'meu', 'novo', 'parceiro', 'agr', 'nubank', 'o', 'meu', 'mês', 'de', 'aniversário', 'podia', 'ganhar', 'um', 'aumento', 'no', 'limite🥰🥰🥰', 'a', 'nubank', 'não', 'que', 'alterar', 'meu', 'limite', 'nem', 'fudendo', '🥺🤣🤣', 'era', 'só', 'a', 'nubank', 'liberando', 'crédito', 'pra', 'mim', 'estourar', 'tudo', 'com', 'roupa', 'e', 'tênis', 'feito', 'o', 'irresponsável', 'que', 'sou', 'fernandiiinhag', 'o', 'da', 'nubank', 'é', 'bom', 'vc', 'pedir', 'outro', 'e', 'diminuir', 'o', 'limite', 'enquanto', 'não', 'estiver', 'em', 'uso', 'nubank', 'eu', 'quero', 'é', 'torrar', 'meu', 'dinheiro', 'e', 'vocês', 'ficam', 'com', 'essa', 'negação', 'de', 'aumento', 'de', 'limite', 'aaah', 'pelo', 'amor', 'de', 'deus', 'libera', 'ai', 'né', 'kkk', 'lovingbeyonce', 'é', 'por', 'isso', 'q', 'eu', 'n', 'abro', 'mão', 'do', 'nubank', 'qlqr', 'coisa', 'é', 'mandar', 'um', 'email', 'pra', 'eles', 'e', 'eles', 'resolvem', 'o', 'app', 'então', 'nem', 'se', 'fala', 'adianta', 'oq', 'ter', 'o', 'score', 'bom', 'se', 'o', 'nubank', 'não', 'libera', 'o', 'crédito', 'aí', 'vai', 'toma', 'no', 'cu', 'santander', 'banco', 'de', 'merda', 'flw', 'nubank', '❤️🥺🥰🥳', 'nubank', 'aumenta', 'meu', 'limite', 'e', 'digo', 'se', 'esperava', 'ou', 'nao', 'nubank', 'to', 'ate', 'hj', 'esperando', 'vcs', 'aprovarem', 'o', 'meu', 'pra', 'crédito', 'ramondomiingos', 'bancointer', 'nubank', 'é', 'outro', 'nível', 'mesmo', 'o', 'nubank', 'me', 'deu', 'um', 'limite', 'chucro', 'de', 'apenas', 'r50', 'um', 'desrespeito', 'ao', 'cliente', 'ao', 'mesmo', 'tempo', 'em', 'que', 'o', 'santander_br', 'me', 'ofereceu', 'um', 'cartão', 'com', 'r500', 'já', 'decidi', 'qual', 'conta', 'manter', 'o', 'pessoal', 'critica', 'os', 'grandes', 'bancos', 'mas', 'o', 'que', 'o', 'nubank', 'faz', 'é', 'sambar', 'na', 'cara', 'do', 'cliente', 'nubank', 'agora', 'queremos', 'apple', 'plaaaaaaay', 'nubank', 'aumenta', 'o', 'meu', 'limite', 'pra', 'eu', 'comprar', 'as', 'quatro', 'versões', 'de', 'dancing', 'with', 'the', 'devil', 'the', 'art', 'of', 'starting', 'over', 'pra', 'minha', 'consagrada', 'e', 'eu', 'digo', 'se', 'esperava', 'ou', 'não', 'eu', 'te', 'odeio', 'nubank', 'nubank', 'muitoooo', 'obg', 'por', 'serem', 'incríveis', '🥰', 'erickbittenc', 'se', 'dependesse', 'da', 'gente', 'com', 'certeza', 'aumentaríamos', 'o', 'limite', 'de', 'vocês', 'ps', 'é', 'verdade', 'esse', 'bilete', '👀', 'achei', 'que', 'o', 'atendimento', 'do', 'nubank', 'era', 'bom', 'mas', 'agora', 'que', 'precisei', 'foi', 'péssimo', 'nubank', 'hahahhahhaha', 'faz', '4', 'anos', 'que', 'tenho', 'nubank', 'já', 'pedi', 'tanto', 'aumento', 'de', 'limite', 'que', 'nem', 'me', 'humilho', 'mais', 'gslnasc', 'eu', 'amo', 'nubank', 'vai', 'se', 'fude', 'porra', 'danielperrone', 'tinha', 'que', 'tentar', 'a', 'nubank', 'banco', 'que', 'cresceu', 'muito', 'se', 'fizer', 'um', 'marketing', 'com', 'o', 'são', 'paulo', 'vai', 'crescer', 'mais', 'e', 'pegar', 'todos', 'clientes', 'do', 'banco', 'inter', 'phaelxbox', 'endzfv', 'nubank', 'eu', 'zerei', 'o', 'saldo', 'da', 'conta', 'fazia', 'todas', 'minhas', 'movimentações', 'no', 'nubank', 'não', 'aumentaram', 'transferi', 'pra', 'outro', 'banco', 'o', 'saldo', 'não', 'deu', '48h', 'dobraram', 'meu', 'limite', 'essa', 'nubank', 'é', 'um', 'lixo', 'tbm', '😡😡', 'obrigada', 'por', 'me', 'dar', 'crédito', 'nubank', 'mas', 'poderia', 'aumentar', 'meu', 'limite', 'ne', 'nubank', 'quando', 'vão', 'integrar', 'o', 'sistema', 'de', 'criptomoedas', 'na', 'plataforma', 'de', 'vocês', 'nubank', 'tia', 'nu', 'aumenta', 'o', 'meu', 'limite', 'pra', 'eu', 'comprar', 'um', 'tv', '🥺', 'a', 'nubank', 'me', 'liberou', 'o', 'cartão', 'de', 'crédito', 'mas', 'o', 'limite', 'veio', '0', 'enfim', 'a', 'pobreza', 'nubank', 'eu', 'só', 'queria', 'um', 'limite', 'maior', 'que', '200', 'reais', 'por', 'favor', 'é', 'pedir', 'muito', '😢', 'nubank', 'poxa', 'nubank', 'aumenta', 'meu', 'limite', 'aí', 'falo', 'bem', 'de', 'você', 'pra', 'todo', 'mundo', '😢', 'maria_imdrunkk', 'nubank', 'coe', 'irmao', 'aumenta', 'o', 'limite', 'dela', 'ai', 'só', 'queria', 'um', 'aumento', 'de', 'credito', 'nubank', 'nubank', 'por', 'isso', 'social', 'media', 'é', 'a', 'melhor', 'parte', 'de', 'toda', 'empresa', 'o', 'cara', 'do', 'nubank', 'elogiando', 'meu', 'wallpaper', 'do', 'cbjr', 'por', 'causa', 'do', 'print', 'q', 'mandei', 'kkkjkk', 'auge', 'nubank', 'aumenta', 'meu', 'limite', 'pfv', 'mano', 'eu', 'amo', 'a', 'nubank', 'dms', 'vai', 'toma', 'no', 'cu', 'nubank', '/¯/', '/¯', '/', '/', '/', '/´¯/', '/´¯`•¸', '//', '/', '/', '/¯\\\\', '¯', '/', '\\\\', '/', '\\\\', '/', '\\\\', 'to', 'cancelando', 'a', 'conta', 'fds', 'nubank', 'poxa', 'aumenta', 'o', 'meu', 'ai', 'rapidão', 'só', 'pra', 'eu', 'testar', 'um', 'negocio', 'que', 'ódio', 'eu', 'alterei', 'a', 'senha', 'do', 'app', 'da', 'nubank', 'e', 'nunca', 'mais', 'consegui', 'entrar', 'galera', 'vale', 'mais', 'a', 'a', 'pena', 'fazer', 'um', 'cartão', 'do', 'next', 'ou', 'do', 'picpay', 'já', 'tenho', 'inter', 'e', 'nubank', '🤔', 'falanext', 'picpay', 'thiagoferreira', 'agora', 'que', 'na', 'amazon', 'da', 'pra', 'parcelar', 'na', 'prévenda', 'parcelei', 'no', 'nubank', 'já', 'veio', 'cobrando', 'adiantei', 'as', 'parcelas', 'e', 'ganhei', 'um', 'desconto', 'por', 'adiantar', 'kkkk', 'nubank', 'só', 'esperou', 'eu', 'ser', 'mandado', 'embora', 'pra', 'aumentar', 'meu', 'limite', 'de', 'credito', 'o', 'inferno', 'fabiorlive', 'vai', 'ser', 'tipo', 'assim', 'sente', 'a', 'vibração', 'que', 'o', 'nu', 'chegou', 'bota', 'o', 'cel', 'na', 'mão', 'e', 'deixa', 'a', 'notificação', 'chegar', 'ta', 'geral', 'na', 'pilha', 'então', 'demorou', 'vem', 'que', 'vai', 'dar', 'boa', 'samsung', 'pay', 'vai', 'chegar', 'como', 'assim', 'nubank', 'não', 'liberou', 'pra', 'mim', 'um', 'cartão', 'de', 'crédito', 'ainda', 'bem', 'deus', 'sabe', 'de', 'tudooo', 'nubank', 'liberou', 'crédito', 'pra', 'mim', 'nubank', 'liberou', 'crédito', 'pra', 'mim', 'nubank', 'atenção', 'donos', 'do', 'nubank', 'vamo', 'tudo', 'fazer', 'greve', 'se', 'os', 'social', 'media', 'não', 'puderem', 'aumentar', 'nossos', 'limites', 'nubank', 'porque', 'não', 'consigo', 'abrir', 'minha', 'conta', 'não', 'pedem', 'todos', 'meus', 'dados', 'só', 'coloca', 'meu', 'nome', 'e', 'meu', 'cpf', 'e', 'falam', 'que', 'vão', 'mandar', 'emaaaaailllllll', 'nubank', 'aumenta', 'o', 'meu', 'aí', 'humilde🗿🤝', 'nubank', 'fwmo', 'tivor_', 'a', 'samsung', 'tem', 'um', 'cartão', 'que', 'funciona', 'com', 'impressão', 'digital', 'acho', 'q', 'pra', 'colocar', 'um', 'rastreador', 'n', 'fica', 'tão', 'difícil', 'finalmente', 'nubank', 'liberou', 'crédito', 'pra', 'mim💜', 'todo', 'dia', 'a', 'nubank', 'aumenta', 'o', 'limite', 'do', 'cartão', 'de', 'crédito', 'vc', 'ta', 'fazendo', 'um', 'jogo', 'cmg', 'garoto', 'nubank', 'mal', 'não', 'faria', 'né', 'social', 'media', 'kkk', 'a', 'nubank', 'liberou', 'o', 'crédito', 'pra', 'mim', 'o', 'limite', 'do', 'crédito', '🤡🤡🤡', 'nubank', 'me', 'libera', 'um', 'cartão', 'com', 'r3000', 'de', 'limite', 'e', 'eu', 'digo', 'se', 'esperava', 'ou', 'não', '3', 'anos', 'que', 'tô', 'com', 'o', 'cartão', 'de', 'crédito', 'sempre', 'pago', 'certinho', 'e', 'eles', 'não', 'aumentam', 'o', 'meu', 'limite', 'obrigada', 'nubank', '\\U0001f972🤝', 'fiz', 'um', 'acordão', 'com', 'a', 'nubank', 'e', 'com', 'tudo', 'e', 'não', 'honrei', 'espero', 'que', 'meu', 'roxinho', 'fique', 'bem', 'bora', 'nubank', 'aumente', 'meu', 'limite', '_nielsengaldino', 'c6bank', 'mulher', 'a', 'nubank', 'só', 'aumentou', 'meu', 'limite', 'uma', 'vez', 'e', 'eu', 'pago', 'tudo', 'certinho', 'e', 'tenho', 'esse', 'cartão', 'a', '2', 'anos', 'pode', 'me', 'dar', 'ban', 'vou', 'expor', 'sim', 'como', 'q', 'eu', 'vivia', 'sem', 'nubank', 'antes', 'meu', 'deus', 'q', 'aplicativo', 'mágico', 'p', 'quem', 'vivia', 'passando', 'raiva', 'c', 'o', 'da', 'caixa', 'nubank', 'me', 'libera', 'um', 'cartão', 'de', 'crédito', 'todo', 'dia', 'chega', 'convite', 'para', 'mim', 'mais', 'não', 'dá', 'pra', 'pedir', 'nubank', 'o', 'meu', 'não', 'tem', 'nem', '50', 'reias', 'de', 'limite', '😟', 'nubank', 'fdp', 'n', 'aumenta', 'meu', 'limite', 'eu', 'só', 'preciso', 'de', 'mais', '100', 'reais', 'pra', 'comprar', 'meu', 'curso', 'amp', 'donroaan', 'nubank', 'ta', 'em', 'análise', 'já', 'tem', 'um', 'tempinho', 'nubank', 'mas', 'vamos', 'combinar', 'que', '6000', 'como', 'limite', 'é', 'uma', 'piada', 'né', 'nubank', '🤡🤡🤡🤡', 'nubank', 'deu', '700', 'de', 'credito', 'po', 'pai', 'kkkkkkkkkkkkk', 'eh', 'hj', 'q', 'eu', 'boto', 'meu', 'nome', 'no', 'serasa', 'nubank', 'nada', 'de', 'liberar', 'aquela', 'função', 'de', 'adicionar', 'limite', 'pra', 'eu', 'usar', '😣', 'nubank', 'vcs', 'são', 'amadores', 'bancointer', 'melhor', 'digital', 'nubank', 'quando', 'sai', 'pra', 'apple', 'pay', 'nubank', 'então', 'deixa', 'o', 'social', 'media', 'trabalhar', 'no', 'setor', 'de', 'aumento', 'de', 'limites', 'brigada', 'fndks_rs', 'phaelxbox', 'endzfv', 'nubank', 'exatamente', 'só', 'aumentaram', 'meu', 'limite', 'depois', 'que', 'eu', 'comecei', 'a', 'usar', 'outro', 'cartão😂', 'lucasafoliveira', 'rafaelfogarolli', 'paynewsbr', 'bancooriginal', 'nubank', 'santander_br', 'vi', 'muita', 'gente', 'elogiando', 'o', 'btgmais', 'tanto', 'pelo', 'apple', 'pay', 'como', 'pelo', 'atendimento', 'que', 'realmente', 'acompanhou', 'o', 'cliente', 'até', 'a', 'solução', 'do', 'problema', '😱', 'qual', 'o', 'outro', 'banco', 'digital', 'parecido', 'com', 'nubank', 'que', 'tenha', 'a', 'mesma', 'proposta', 'mesmos', 'benefícios', 'sem', 'juros', 'e', 'que', 'de', 'um', 'limite', 'decente', 'alguém', 'sabe', 'me', 'indicar', 'estou', 'a', 'anos', 'com', 'nubank', 'e', 'não', 'consigo', 'comprar', 'um', 'celular', 'aí', 'não', 'me', 'adianta', 'o', 'nubank', 'aprovou', 'meu', 'cartão', 'de', 'crédito', 'mas', 'medo', 'de', 'pedir', 'e', 'meu', 'nome', 'ir', 'pro', 'serasa', '🤣', 'nubank', 'crvgleticia_', 'primeiro', 'o', 'aumento', 'né', '👀', 'espertinhos', 'pix', 'do', 'nubank', 'de', 'vcs', 'hoje', 'tá', 'zuado', 'pq', 'aqui', 'tá', 'dando', 'ruim', 'até', 'o', 'nubank', 'me', 'deu', 'parabéns', 'e', 'teve', 'amigo', 'que', 'não', '💕💕me', 'importo', 'não', 'kkkkkkk', 'tô', 'pouco', 'me', 'fudendo', 'nubank', 'limite', 'de', '7000', 'tu', 'acha', 'bonito', 'né', 'amada', 'nubank', 'crvgleticia_', 'aumenta', 'o', 'limite', 'p', 'ela', 'conseguir', 'comprar', 'a', 'pizza', 'rayscrf', 'tá', 'tudo', 'bem', 'miga', 'adoramos', 'conversar', 'com', 'vocês', 'a', 'gente', 'se', 'diverte', 'até', 'respondendo', 'pedido', 'de', 'limite', '💜', 'nubank', 'e', 'eu', 'que', 'nem', 'tenho', 'limite', 'ainda', 'aumenta', 'meu', 'limite', 'nubank', 'hoje', 'é', 'meu', 'aniversário', 'acho', 'que', 'sou', 'a', 'única', 'pessoa', 'que', 'ainda', 'não', 'tem', 'cartão', 'da', 'nubank', 'nubank', 'aumenta', 'o', 'limite', 'ai', 'meu', 'fih', 'silvinhadiass', 'angelicamaues', 'ana_lurocha', 'acho', 'mais', 'seguro', 'o', 'do', 'bb', 'pq', 'qualquer', 'coisa', 'tem', 'atendimento', 'numa', 'agencia', 'pra', 'familia', 'e', 'tals', 'fiquei', 'um', 'pé', 'atras', 'do', 'nubank', 'pq', 'acho', 'q', 'minha', 'familia', 'ñ', 'seria', 'tal', 'tecnologica', 'pra', 'contactar', 'eles', 'pelo', 'app', 'meu', 'nível', 'de', 'cancerianismo', 'e', 'carência', 'atual', 'é', 'me', 'apaixonar', 'pelo', 'cara', 'do', 'callcenter', 'do', 'nubank', 'alô', 'nubank', 'me', 'ajuda', 'à', 'achar', 'o', 'lucas', 'como', 'vcs', 'perguntam', 'ao', 'final', 'da', 'ligação', 'estou', 'encantado', 'nubank', 'aproveita', 'e', 'aumenta', 'o', 'meu', 'aí', 'rapidão', 'eu', 'so', 'queria', 'ter', 'um', 'limite', 'de', 'cartao', 'pra', 'poder', 'comprar', 'um', 'notebook', 'mas', 'nem', 'a', 'nubank', 'nem', 'a', 'pag', 'tso', 'nem', 'ai', 'pra', 'me', 'ajudar', 'nubank', 'meu', 'filho', 'aumenta', 'meu', 'limite', 'não', 'quero', 'ter', 'que', 'fazer', 'outro', 'cartão', '😫', 'cansado', 'de', 'ser', 'humilhado', 'pela', 'nubank', 'resolvi', 'fazer', 'o', 'cartão', 'de', 'crédito', 'da', 'c6bank', 'e', 'já', 'foi', 'aprovado', 'só', 'falta', 'chegar', '🙏🏽', 'rildholanda', 'nubank', 'ô', 'nubank', 'dá', 'o', 'limite', 'aí', 'pro', 'rild', 'daqui', 'a', 'pouco', 'ele', 'vai', 'tá', 'milionário', 'e', 'vcs', 'vão', 'correr', 'atrás', 'nubank', 'dá', 'erro', 'desde', 'manhãzinha', 'não', 'dá', 'pra', 'solicitar', 'o', 'nubank', 'manda', 'notificação', 'aleatoriamente', 'durante', 'o', 'dia', 'e', 'a', 'primeira', 'coisa', 'que', 'vem', 'na', 'cabeça', 'sempre', 'é', 'caralho', 'clonaram', 'meu', 'cartão', 'nubank', 'n', 'quer', 'me', 'liberar', 'crédito', 'nem', 'fodendo', 'que', 'odio', 'mlk', 'aaaaaaaa', 'chegou', 'meu', 'cartão', 'nubank', 'já', 'quero', 'gastar', 'mas', 'n', 'posso', '🤡👍🏾', 'tivor_', 'nubank', 'a', 'era', 'dos', 'cartões', 'físicos', 'estão', 'contadas', 'vai', 'ser', 'tudo', 'via', 'contactless', 'com', 'pulseiras', 'inteligentes', 'ou', 'celular', 'anota', 'aí', 'o', 'que', 'estou', 'falando', 'nubank', 'inclusive', 'to', 'saindo', 'do', 'nubank', 'pra', 'um', 'banco', 'q', 'me', 'da', 'um', 'limite', 'descente', 'de', 'acordo', 'com', 'meus', 'gastos', 'bjo', 'bb', 'até', 'que', 'durou', 'me', 'diz', 'o', 'pq', 'perdeu', 'tanto', 'tempo', 'aqui', 'nubank', 'adoro', 'esse', 'social', 'media', 'kkkķkk', 'é', 'isso', 'carla', 'todo', 'dia', 'chegando', 'no', 'limite', 'e', 'o', 'limite', 'nunca', 'chega', 'tá', 'bom', 'do', 'nubank', 'aprender', 'esse', 'limite', 'dela', 'alvesandreew', 'nubank', 'sonho', 'um', 'dia', 'em', 'ter', 'esse', 'limite', '😍', 'nubank', 'aumenta', 'meu', 'limite', 'pra', 'eu', 'testar', 'uma', 'coisinha', 'aqui', '🤔', 'nubank', 'minha', 'caixa', 'de', 'correios', 'ta', 'aberta', 'pra', 'mimos', 'tmbm', 'nubank', 'alguém', 'avisa', 'o', 'nubank', 'q', 'não', 'dá', 'pra', 'fazer', 'nada', 'com', '800', 'reais', 'de', 'limite', 'de', 'crédito', 'nubank', 'porque', 'não', 'consigo', 'abrir', 'minha', 'conta', 'não', 'pedem', 'todos', 'meus', 'dados', 'só', 'coloca', 'meu', 'nome', 'e', 'meu', 'cpf', 'e', 'falam', 'que', 'vão', 'mandar', 'emaaaaailllllll', 'o', 'nubank', 'pra', 'mim', 'é', 'tudomelhor', 'cartão', 'da', 'vida', 'vc', 'atrasa', '2', 'dias', 'a', 'fatura', 'da', 'nubank', 'e', 'pá', '100', 'reais', 'de', 'juros', 'cherrykah', 'c6', 'me', 'deu', 'um', 'limite', 'de', '100', 'e', 'quando', 'fui', 'pedir', 'mais', 'negaram', 'app', 'achei', 'igual', 'ao', 'nubank', 'usabilidade', 'meio', 'ruim', 'e', 'tudo', 'meio', 'escondido', 'não', 'cheguei', 'a', 'usar', 'sac', 'de', 'nenhum', 'deles', 'veredito', 'cancelei', 'o', 'c6', 'e', 'fiquei', 'com', 'o', 'inter', 'e', 'estou', '100', 'feliz', 'whatsanittx', 'nubank', 'nubank', 'quero', 'saber', 'do', 'dinheiro', 'meu', 'filho', 'bora', 'eu', 'não', 'tenho', 'o', 'dia', 'todo', 'b1ch4s', 'inúteis', 'plataforma', 'podre', 'cade', 'o', 'atendimento', 'vcs', 'tao', 'aqui', 'pra', 'isso', 'vao', 'trabalhar', 'logo', 'nubank', 'só', 'pago', 'antecipado', 'e', 'até', 'hj', 'não', 'recebi', 'aumento', 'de', 'limite', 'enfim', 'a', 'hipocrisia', 'kkk', 'amo', 'vcs', 'porém', 'aumentem', 'meu', 'limiteeeee', 'nubank', 'oi', 'nubank', 'libera', 'o', 'empréstimo', 'pra', 'mim', 'só', 'preciso', 'de', 'uma', 'certa', 'quantia', '😍💜', 'clonaram', 'meu', 'cartão', 'nubank', 'e', 'ainda', 'parcelaram', 'a', 'compra', 'mds', 'kkk', 'nubank', 'aumenta', 'meu', 'limite', 'aí', 'só', 'pra', 'eu', 'testar', 'um', 'negócio', 'aqui', '😀', 'a', 'aqui', '😄', 's_wallisonn', 'o', 'se', 'dependesse', 'do', 'social', 'media', 'vale', 'pra', 'esse', 'caso', 'também', 'acho', 'que', 'vou', 'comprar', 'um', 'carro', 'com', 'meus', '50', 'reais', 'de', 'limite', 'no', 'nubank', 'nubank', 'liberou', '300', 'de', 'crédito', 'pra', 'mim', 'do', 'nada', 'qual', 'foi', 'pq', 'o', 'governo', 'n', 'inclui', 'o', 'nubank', 'como', 'banco', 'ia', 'facilitar', 'mt', 'a', 'minha', 'vida', 'meu', 'sonho', 'é', 'a', 'nubank', 'liberar', 'cartão', 'pra', 'dependente', 'infantil/', 'adolescente', 'pra', 'vê', 'se', 'essas', 'criaturas', 'colocam', 'a', 'mesada', 'pra', 'render', 'e', 'aprendem', 'a', 'gerir', 'o', 'dinheiro', 'desde', 'cedo', 'nubank', 'realmente', 'em', 'um', 'certo', 'banco', 'com', 'kc', 'o', 'povo', 'fala', 'que', 'tem', 'limite', 'de', '20k', 'e', '30k', 'vai', 'e', 'tenta', 'usar', 'pra', 'você', 'receber', 'um', 'block', '🤣🤣', 'annaflhira', '_nielsengaldino', 'c6bank', 'nubank', 'amiga', 'um', 'dia', 'vem', 'ai', '🙏🏾', 'fica', 'pertubando', 'por', 'aumento', 'mlr', 'todo', 'dia', 'eu', 'implorando', 'pro', 'nubank', 'me', 'ceder', 'o', 'crédito', 'nubank', 'podia', 'aumentar', 'meu', 'limite', 'só', 'mais', 'um', 'pouquinho', '\\U0001f972', 'nubank', 'o', 'banco', 'mais', 'difícil', 'de', 'aprovar', 'cartão', 'ja', 'desisti', 'de', 'vcs', 'nubank', 'aumenta', 'meu', 'limite', 'aí', 'digo', 'se', 'esperava', 'ou', 'não', '👉👈😳', 'nubank', 'minha', 'situação', 'tá', 'difícil', 'devido', 'à', 'pandemia', 'não', 'sei', 'se', 'vou', 'poder', 'arcar', 'com', 'isso', 'matheusdssx', 'explicação', 'um', 'cartão', 'platinum', 'com', '340', 'reais', 'de', 'limite', 'leteubank', 'eu', 'sempre', 'tento', 'parcelar', 'no', 'nubank', 'pq', 'quando', 'vou', 'tento', 'uma', 'grana', 'a', 'mais', 'já', 'puxo', 'uma', 'parcela', 'nubank', 'libera', 'meu', 'aumento', 'baldpreta', 'nubank', 'inter', 'ou', 'c6', 'só', 'faz', 'conta', 'em', 'banco', 'digital', 'please', 'nubank', 'daniel_keppler', 'nubank', 'aumenta', 'meu', 'limite', 'nunca', 'te', 'pedi', 'nada', 'hahaha', 'um', 'dia', 'desses', 'aumentou', 'r', '1000', 'reais', 'kkkk', 'fiquei', 'mó', 'triste', 'pq', 'o', 'cartão', 'da', 'nubank', 'é', 'tão', 'lindo', 'e', 'o', 'meu', 'amassou', 'felizmente', 'tá', 'dando', 'pra', 'usar', 'nubank', 'preferia', 'a', 'tag', 'de', 'pedágio', '😂😂😂😂😂', 'td', 'vez', 'q', 'um', 'cliente', 'liga', 'pra', 'reclamar', 'dos', 'trem', 'do', 'cartão', 'a', 'vontade', 'q', 'eu', 'tenho', 'é', 'falar', '“amor', 'vai', 'pra', 'nubank', 'lá', 'não', 'tem', 'anuidade', 'é', 'fácil', 'de', 'resolver', 'os', 'trem', 'para', 'de', 'complicar', 'a', 'minha', 'vida', 'e', 'a', 'sua', 'pfv”', 'shaiipereira', 'nubank', 'só', 'de', 'não', 'ter', 'que', 'ligar', 'em', '0800', 'já', 'conquistaram', 'meu', 'coração', 'nubank', 'só', 'queria', 'um', 'limite', 'maior', 'pra', 'poder', 'comprar', 'um', 'pc', 'mas', 'vcs', 'n', 'liberaaam😭', 'nubank', 'sem', 'aumento', 'de', 'limite', 'sem', 'aplicações', '😑', 'nubank', 'o', 'social', 'media', 'está', 'de', 'saco', 'cheio', 'da', 'gente', 'implorando', 'por', 'um', 'aumento', 'no', 'limite', '😂😂😂😂', 'eu', 'fiquei', '1', 'mes', 'tentando', 'abrir', 'conta', 'na', 'nubank', 'agora', 'os', 'cara', 'vem', 'me', 'especular', 'dizendo', 'q', 'o', 'credito', 'ta', 'liberado', 'va', 'se', 'fude', 'o', 'nubank', 'encheu', 'meu', 'saco', 'mandando', 'email', 'e', 'carta', 'falando', 'que', 'tavam', 'me', 'devendo', 'uma', 'grana', 'por', 'uma', 'cobrança', 'errada', 'depois', 'que', 'me', 'interessei', 'em', 'receber', 'não', 'me', 'pagam', 'kkkk', 'pensando', 'em', 'largar', 'o', 'nubank', 'por', 'motivos', 'de', 'não', 'dá', 'pra', 'investir', 'pelo', 'próprio', 'app', 'deles', 'queria', 'que', 'a', 'nubank', 'aumentasse', 'meu', 'limite', 'nubank', 'já', 'desisti', 'de', 'pedi', 'aumento', 'vai', 'ser', 'o', 'jeito', 'eu', 'traí', 'o', 'nubank', '👀', 'ramondomiingos', 'bancointer', 'amigo', 'tu', 'ainda', 'n', 'desistiu', 'eu', 'só', 'só', 'no', 'nubank', 'agr', 'só', 'uso', 'o', 'inter', 'pra', 'sacar', 'mesmo', 'coisa', 'que', 'eu', 'n', 'faço', 'já', 'tem', 'mais', 'de', '1', 'ano', 'nubank', 'daniel_keppler', 'hoje', 'é', 'o', 'meu', 'aumenta', 'meu', 'limite', 'como', 'presente', 'nubank', 'nubank', 'só', 'queria', '400', 'de', 'limite\\U0001f972', 'nubank', 'liberou', '5000', 'conto\\U0001f972', 'só', 'dá', 'para', 'comprar', 'meus', 'açaís', 'nubank', 'aumenta', 'meu', 'limite', 'p', '200', 'reais', 'e', 'eu', 'falo', 'se', 'esperava', 'ou', 'não', 'a', 'nubank', 'finalmente', 'liberou', 'a', 'função', 'crédito', 'da', 'minha', 'conta', 'justo', 'agora', 'que', 'tô', 'desempregado']\n"
     ]
    }
   ],
   "source": [
    "# Limpando links\n",
    "print(lista_relevante)"
   ]
  },
  {
   "cell_type": "code",
   "execution_count": null,
   "metadata": {},
   "outputs": [],
   "source": []
  },
  {
   "cell_type": "markdown",
   "metadata": {},
   "source": [
    "___\n",
    "### Concluindo"
   ]
  },
  {
   "cell_type": "code",
   "execution_count": null,
   "metadata": {},
   "outputs": [],
   "source": []
  },
  {
   "cell_type": "code",
   "execution_count": null,
   "metadata": {},
   "outputs": [],
   "source": []
  },
  {
   "cell_type": "code",
   "execution_count": null,
   "metadata": {},
   "outputs": [],
   "source": []
  },
  {
   "cell_type": "markdown",
   "metadata": {},
   "source": [
    "___\n",
    "### Qualidade do Classificador a partir de novas separações dos tweets entre Treinamento e Teste\n",
    "\n",
    "Caso for fazer esse item do Projeto"
   ]
  },
  {
   "cell_type": "code",
   "execution_count": null,
   "metadata": {},
   "outputs": [],
   "source": []
  },
  {
   "cell_type": "code",
   "execution_count": null,
   "metadata": {},
   "outputs": [],
   "source": []
  },
  {
   "cell_type": "code",
   "execution_count": null,
   "metadata": {},
   "outputs": [],
   "source": []
  },
  {
   "cell_type": "markdown",
   "metadata": {},
   "source": [
    "___\n",
    "## Aperfeiçoamento:\n",
    "\n",
    "Os trabalhos vão evoluir em conceito dependendo da quantidade de itens avançados:\n",
    "\n",
    "* Limpar: \\n, :, \", ', (, ), etc SEM remover emojis\n",
    "* Corrigir separação de espaços entre palavras e emojis ou entre emojis e emojis\n",
    "* Propor outras limpezas e transformações que não afetem a qualidade da informação ou classificação\n",
    "* Criar categorias intermediárias de relevância baseadas na probabilidade: ex.: muito relevante, relevante, neutro, irrelevante, muito irrelevante (3 categorias: C, mais categorias conta para B)\n",
    "* Explicar por que não posso usar o próprio classificador para gerar mais amostras de treinamento\n",
    "* Propor diferentes cenários para Naïve Bayes fora do contexto do projeto\n",
    "* Sugerir e explicar melhorias reais com indicações concretas de como implementar (indicar como fazer e indicar material de pesquisa)\n"
   ]
  },
  {
   "cell_type": "markdown",
   "metadata": {},
   "source": [
    "___\n",
    "## Referências"
   ]
  },
  {
   "cell_type": "markdown",
   "metadata": {},
   "source": [
    "[Naive Bayes and Text Classification](https://arxiv.org/pdf/1410.5329.pdf)  **Mais completo**\n",
    "\n",
    "[A practical explanation of a Naive Bayes Classifier](https://monkeylearn.com/blog/practical-explanation-naive-bayes-classifier/) **Mais simples**"
   ]
  },
  {
   "cell_type": "code",
   "execution_count": null,
   "metadata": {},
   "outputs": [],
   "source": []
  }
 ],
 "metadata": {
  "kernelspec": {
   "display_name": "Python 3",
   "language": "python",
   "name": "python3"
  },
  "language_info": {
   "codemirror_mode": {
    "name": "ipython",
    "version": 3
   },
   "file_extension": ".py",
   "mimetype": "text/x-python",
   "name": "python",
   "nbconvert_exporter": "python",
   "pygments_lexer": "ipython3",
   "version": "3.8.3"
  }
 },
 "nbformat": 4,
 "nbformat_minor": 4
}
