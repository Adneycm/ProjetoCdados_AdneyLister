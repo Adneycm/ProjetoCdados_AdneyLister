{
 "cells": [
  {
   "cell_type": "markdown",
   "metadata": {},
   "source": [
    "# Projeto 1 - Ciência dos Dados"
   ]
  },
  {
   "cell_type": "markdown",
   "metadata": {},
   "source": [
    "Nome: Adney Costa Moura\n",
    "\n",
    "Nome: Lister Ogusuku Ribeiro"
   ]
  },
  {
   "cell_type": "markdown",
   "metadata": {},
   "source": [
    "Atenção: Serão permitidos grupos de três pessoas, mas com uma rubrica mais exigente. Grupos deste tamanho precisarão fazer um questionário de avaliação de trabalho em equipe"
   ]
  },
  {
   "cell_type": "markdown",
   "metadata": {},
   "source": [
    "___\n",
    "Carregando algumas bibliotecas:"
   ]
  },
  {
   "cell_type": "code",
   "execution_count": 61,
   "metadata": {},
   "outputs": [],
   "source": [
    "%matplotlib inline\n",
    "import pandas as pd\n",
    "import matplotlib.pyplot as plt\n",
    "import numpy as np\n",
    "import os"
   ]
  },
  {
   "cell_type": "code",
   "execution_count": 62,
   "metadata": {
    "scrolled": false
   },
   "outputs": [
    {
     "name": "stdout",
     "output_type": "stream",
     "text": [
      "Esperamos trabalhar no diretório\n",
      "C:\\Users\\adney\\OneDrive\\Documentos\\2° semestre - Insper\\Ciência dos Dados\\ProjetoCdados_AdneyLister\n"
     ]
    }
   ],
   "source": [
    "print('Esperamos trabalhar no diretório')\n",
    "print(os.getcwd())"
   ]
  },
  {
   "cell_type": "markdown",
   "metadata": {},
   "source": [
    "Carregando a base de dados com os tweets classificados como relevantes e não relevantes:"
   ]
  },
  {
   "cell_type": "code",
   "execution_count": 82,
   "metadata": {},
   "outputs": [],
   "source": [
    "filename = 'nubank.xlsx'"
   ]
  },
  {
   "cell_type": "code",
   "execution_count": 91,
   "metadata": {},
   "outputs": [
    {
     "data": {
      "text/html": [
       "<div>\n",
       "<style scoped>\n",
       "    .dataframe tbody tr th:only-of-type {\n",
       "        vertical-align: middle;\n",
       "    }\n",
       "\n",
       "    .dataframe tbody tr th {\n",
       "        vertical-align: top;\n",
       "    }\n",
       "\n",
       "    .dataframe thead th {\n",
       "        text-align: right;\n",
       "    }\n",
       "</style>\n",
       "<table border=\"1\" class=\"dataframe\">\n",
       "  <thead>\n",
       "    <tr style=\"text-align: right;\">\n",
       "      <th></th>\n",
       "      <th>Treinamento</th>\n",
       "      <th>Relevância</th>\n",
       "    </tr>\n",
       "  </thead>\n",
       "  <tbody>\n",
       "    <tr>\n",
       "      <th>0</th>\n",
       "      <td>@nubank você me ilude tão bem 🤩🤩🤩</td>\n",
       "      <td>0</td>\n",
       "    </tr>\n",
       "    <tr>\n",
       "      <th>1</th>\n",
       "      <td>vou ter que fazer parcelamento da parcela, eu ...</td>\n",
       "      <td>0</td>\n",
       "    </tr>\n",
       "    <tr>\n",
       "      <th>2</th>\n",
       "      <td>@hs_ramao @nubank aumentaram o meu e eu nem us...</td>\n",
       "      <td>1</td>\n",
       "    </tr>\n",
       "    <tr>\n",
       "      <th>3</th>\n",
       "      <td>hoje eu mal acordei e tava pegando ônibus o re...</td>\n",
       "      <td>0</td>\n",
       "    </tr>\n",
       "    <tr>\n",
       "      <th>4</th>\n",
       "      <td>🤣🤣🤣 @nubank vamos amigar https://t.co/7k6syhkxf0</td>\n",
       "      <td>0</td>\n",
       "    </tr>\n",
       "  </tbody>\n",
       "</table>\n",
       "</div>"
      ],
      "text/plain": [
       "                                         Treinamento  Relevância\n",
       "0                  @nubank você me ilude tão bem 🤩🤩🤩           0\n",
       "1  vou ter que fazer parcelamento da parcela, eu ...           0\n",
       "2  @hs_ramao @nubank aumentaram o meu e eu nem us...           1\n",
       "3  hoje eu mal acordei e tava pegando ônibus o re...           0\n",
       "4   🤣🤣🤣 @nubank vamos amigar https://t.co/7k6syhkxf0           0"
      ]
     },
     "execution_count": 91,
     "metadata": {},
     "output_type": "execute_result"
    }
   ],
   "source": [
    "train = pd.read_excel(filename)\n",
    "train.head(5)"
   ]
  },
  {
   "cell_type": "code",
   "execution_count": 137,
   "metadata": {},
   "outputs": [
    {
     "data": {
      "text/html": [
       "<div>\n",
       "<style scoped>\n",
       "    .dataframe tbody tr th:only-of-type {\n",
       "        vertical-align: middle;\n",
       "    }\n",
       "\n",
       "    .dataframe tbody tr th {\n",
       "        vertical-align: top;\n",
       "    }\n",
       "\n",
       "    .dataframe thead th {\n",
       "        text-align: right;\n",
       "    }\n",
       "</style>\n",
       "<table border=\"1\" class=\"dataframe\">\n",
       "  <thead>\n",
       "    <tr style=\"text-align: right;\">\n",
       "      <th></th>\n",
       "      <th>Teste</th>\n",
       "      <th>Relevância</th>\n",
       "    </tr>\n",
       "  </thead>\n",
       "  <tbody>\n",
       "    <tr>\n",
       "      <th>0</th>\n",
       "      <td>@ogustamlk gu, obrigado por nos avisar sobre i...</td>\n",
       "      <td>0</td>\n",
       "    </tr>\n",
       "    <tr>\n",
       "      <th>1</th>\n",
       "      <td>@nubank nubank libera logo meu cartao de crédi...</td>\n",
       "      <td>1</td>\n",
       "    </tr>\n",
       "    <tr>\n",
       "      <th>2</th>\n",
       "      <td>nubank foi o melhor cartão que eu já fiz até h...</td>\n",
       "      <td>1</td>\n",
       "    </tr>\n",
       "    <tr>\n",
       "      <th>3</th>\n",
       "      <td>@nubank quer casar cmg?</td>\n",
       "      <td>0</td>\n",
       "    </tr>\n",
       "    <tr>\n",
       "      <th>4</th>\n",
       "      <td>aeeee carai, nubank aceitou meu crédito :3</td>\n",
       "      <td>1</td>\n",
       "    </tr>\n",
       "  </tbody>\n",
       "</table>\n",
       "</div>"
      ],
      "text/plain": [
       "                                               Teste  Relevância\n",
       "0  @ogustamlk gu, obrigado por nos avisar sobre i...           0\n",
       "1  @nubank nubank libera logo meu cartao de crédi...           1\n",
       "2  nubank foi o melhor cartão que eu já fiz até h...           1\n",
       "3                            @nubank quer casar cmg?           0\n",
       "4         aeeee carai, nubank aceitou meu crédito :3           1"
      ]
     },
     "execution_count": 137,
     "metadata": {},
     "output_type": "execute_result"
    }
   ],
   "source": [
    "test = pd.read_excel(filename, sheet_name = 'Teste')\n",
    "test.head(5)"
   ]
  },
  {
   "cell_type": "markdown",
   "metadata": {},
   "source": [
    "___\n",
    "## Classificador automático de sentimento\n"
   ]
  },
  {
   "cell_type": "markdown",
   "metadata": {},
   "source": [
    "Faça aqui uma descrição do seu produto e o que considerou como relevante ou não relevante na classificação dos tweets.\n",
    "\n",
    "Nosso produto foi a startup de serviços financeiros Nubank. Consideramos como relevante as operações que envolvem o limite de crédito, interação com o cliente e reclamações."
   ]
  },
  {
   "cell_type": "markdown",
   "metadata": {},
   "source": [
    "___\n",
    "### Montando um Classificador Naive-Bayes\n",
    "\n",
    "Considerando apenas as mensagens da planilha Treinamento, ensine  seu classificador."
   ]
  },
  {
   "cell_type": "code",
   "execution_count": 123,
   "metadata": {},
   "outputs": [],
   "source": [
    "# Separando cada row do data frame, fazendo um split das palavras e limpando cada frase. Além disso foi filtrado cada row\n",
    "# as listas de relevância.\n",
    "\n",
    "lista_relevante = []\n",
    "lista_irrelevante = []\n",
    "\n",
    "for i in range(0,500):\n",
    "    x = cleanup(train.Treinamento[i]).lower().split()\n",
    "    \n",
    "    if train.iloc[i,1] == 1:\n",
    "        j = 0\n",
    "        while j < len(x):\n",
    "            lista_relevante.append(x[j])\n",
    "            j+=1\n",
    "        \n",
    "    else:\n",
    "        k = 0\n",
    "        while k < len(x):\n",
    "            lista_irrelevante.append(x[k])\n",
    "            k+=1"
   ]
  },
  {
   "cell_type": "markdown",
   "metadata": {},
   "source": [
    "# Tweets Relevantes"
   ]
  },
  {
   "cell_type": "code",
   "execution_count": 125,
   "metadata": {
    "scrolled": true
   },
   "outputs": [
    {
     "data": {
      "text/plain": [
       "0     @hs_ramao\n",
       "1       @nubank\n",
       "2    aumentaram\n",
       "3             o\n",
       "4           meu\n",
       "dtype: object"
      ]
     },
     "execution_count": 125,
     "metadata": {},
     "output_type": "execute_result"
    }
   ],
   "source": [
    "# Guardando as palavras como um pd.Series\n",
    "serie_relevante = pd.Series(lista_relevante)\n",
    "serie_relevante.head()"
   ]
  },
  {
   "cell_type": "markdown",
   "metadata": {},
   "source": [
    "##### Frequências Absolutas"
   ]
  },
  {
   "cell_type": "code",
   "execution_count": 178,
   "metadata": {
    "scrolled": false
   },
   "outputs": [
    {
     "data": {
      "text/plain": [
       "@nubank    135\n",
       "o          117\n",
       "nubank      97\n",
       "de          95\n",
       "meu         94\n",
       "          ... \n",
       "5000         1\n",
       "indicar      1\n",
       "otimo        1\n",
       "ativar       1\n",
       "negocio      1\n",
       "Length: 1091, dtype: int64"
      ]
     },
     "execution_count": 178,
     "metadata": {},
     "output_type": "execute_result"
    }
   ],
   "source": [
    "tabela_relevante_absoluta = serie_relevante.value_counts()\n",
    "tabela_relevante_absoluta"
   ]
  },
  {
   "cell_type": "markdown",
   "metadata": {},
   "source": [
    "##### Frequências Relativas"
   ]
  },
  {
   "cell_type": "code",
   "execution_count": 153,
   "metadata": {},
   "outputs": [
    {
     "data": {
      "text/plain": [
       "@nubank    0.038516\n",
       "o          0.033381\n",
       "nubank     0.027675\n",
       "de         0.027104\n",
       "meu        0.026819\n",
       "             ...   \n",
       "5000       0.000285\n",
       "indicar    0.000285\n",
       "otimo      0.000285\n",
       "ativar     0.000285\n",
       "negocio    0.000285\n",
       "Length: 1091, dtype: float64"
      ]
     },
     "execution_count": 153,
     "metadata": {},
     "output_type": "execute_result"
    }
   ],
   "source": [
    "tabela_relevante_relativa = serie_relevante.value_counts(True)\n",
    "tabela_relevante_relativa"
   ]
  },
  {
   "cell_type": "markdown",
   "metadata": {},
   "source": [
    "# Tweets Irrelevantes"
   ]
  },
  {
   "cell_type": "code",
   "execution_count": 154,
   "metadata": {},
   "outputs": [
    {
     "data": {
      "text/plain": [
       "0    @nubank\n",
       "1       você\n",
       "2         me\n",
       "3      ilude\n",
       "4        tão\n",
       "dtype: object"
      ]
     },
     "execution_count": 154,
     "metadata": {},
     "output_type": "execute_result"
    }
   ],
   "source": [
    "# Guardando as palavras como um pd.Series\n",
    "serie_irrelevante = pd.Series(lista_irrelevante)\n",
    "serie_irrelevante.head()"
   ]
  },
  {
   "cell_type": "markdown",
   "metadata": {},
   "source": [
    "##### Frequências Absolutas"
   ]
  },
  {
   "cell_type": "code",
   "execution_count": 179,
   "metadata": {},
   "outputs": [
    {
     "data": {
      "text/plain": [
       "de                       132\n",
       "@nubank                  125\n",
       "o                        116\n",
       "que                      109\n",
       "a                        106\n",
       "                        ... \n",
       "iphone                     1\n",
       "caderninho                 1\n",
       "https//tco/2s8errzhib      1\n",
       "modéstia                   1\n",
       "fugi                       1\n",
       "Length: 1780, dtype: int64"
      ]
     },
     "execution_count": 179,
     "metadata": {},
     "output_type": "execute_result"
    }
   ],
   "source": [
    "tabela_irrelevante_absoluta = serie_irrelevante.value_counts()\n",
    "tabela_irrelevante_absoluta"
   ]
  },
  {
   "cell_type": "markdown",
   "metadata": {},
   "source": [
    "##### Frequências Relativas"
   ]
  },
  {
   "cell_type": "code",
   "execution_count": 156,
   "metadata": {
    "scrolled": true
   },
   "outputs": [
    {
     "data": {
      "text/plain": [
       "de                       0.025414\n",
       "@nubank                  0.024066\n",
       "o                        0.022333\n",
       "que                      0.020986\n",
       "a                        0.020408\n",
       "                           ...   \n",
       "iphone                   0.000193\n",
       "caderninho               0.000193\n",
       "https//tco/2s8errzhib    0.000193\n",
       "modéstia                 0.000193\n",
       "fugi                     0.000193\n",
       "Length: 1780, dtype: float64"
      ]
     },
     "execution_count": 156,
     "metadata": {},
     "output_type": "execute_result"
    }
   ],
   "source": [
    "tabela_irrelevante_relativa = serie_irrelevante.value_counts(True)\n",
    "tabela_irrelevante_relativa"
   ]
  },
  {
   "cell_type": "markdown",
   "metadata": {},
   "source": [
    "# Tweets Totais"
   ]
  },
  {
   "cell_type": "code",
   "execution_count": 169,
   "metadata": {},
   "outputs": [],
   "source": [
    "total = lista_relevante + lista_irrelevante"
   ]
  },
  {
   "cell_type": "code",
   "execution_count": 167,
   "metadata": {},
   "outputs": [],
   "source": [
    "total_series = pd.Series(total)"
   ]
  },
  {
   "cell_type": "markdown",
   "metadata": {},
   "source": [
    "##### Frequências Absolutas"
   ]
  },
  {
   "cell_type": "code",
   "execution_count": 166,
   "metadata": {
    "scrolled": true
   },
   "outputs": [
    {
     "data": {
      "text/plain": [
       "@nubank    260\n",
       "o          233\n",
       "de         227\n",
       "nubank     191\n",
       "que        166\n",
       "          ... \n",
       "débito       1\n",
       "ler          1\n",
       "😆😆           1\n",
       "crescer      1\n",
       "fugi         1\n",
       "Length: 2392, dtype: int64"
      ]
     },
     "execution_count": 166,
     "metadata": {},
     "output_type": "execute_result"
    }
   ],
   "source": [
    "tabela_total = total_series.value_counts()\n",
    "tabela_total"
   ]
  },
  {
   "cell_type": "markdown",
   "metadata": {},
   "source": [
    "##### Frequências Relativas"
   ]
  },
  {
   "cell_type": "code",
   "execution_count": 165,
   "metadata": {},
   "outputs": [
    {
     "data": {
      "text/plain": [
       "@nubank    0.029888\n",
       "o          0.026785\n",
       "de         0.026095\n",
       "nubank     0.021957\n",
       "que        0.019083\n",
       "             ...   \n",
       "débito     0.000115\n",
       "ler        0.000115\n",
       "😆😆         0.000115\n",
       "crescer    0.000115\n",
       "fugi       0.000115\n",
       "Length: 2392, dtype: float64"
      ]
     },
     "execution_count": 165,
     "metadata": {},
     "output_type": "execute_result"
    }
   ],
   "source": [
    "tabela_total_relativa = total_series.value_counts(True)\n",
    "tabela_total_relativa"
   ]
  },
  {
   "cell_type": "markdown",
   "metadata": {},
   "source": [
    "___\n",
    "### Verificando a performance do Classificador\n",
    "\n",
    "Agora você deve testar o seu classificador com a base de Testes."
   ]
  },
  {
   "cell_type": "code",
   "execution_count": 144,
   "metadata": {},
   "outputs": [],
   "source": [
    "lista_test = []\n",
    "lista_relevante_test = []\n",
    "lista_irrelevante_test = []\n",
    "\n",
    "for i in range(0,300):\n",
    "    x = cleanup(test.Teste[i]).lower().split()\n",
    "    \n",
    "    lista_test.append(x)\n",
    "    \n",
    "    if train.iloc[i,1] == 1:\n",
    "        j = 0\n",
    "        while j < len(x):\n",
    "            lista_relevante_test.append(x[j])\n",
    "            j+=1\n",
    "        \n",
    "    else:\n",
    "        k = 0\n",
    "        while k < len(x):\n",
    "            lista_irrelevante_test.append(x[k])\n",
    "            k+=1"
   ]
  },
  {
   "cell_type": "code",
   "execution_count": 173,
   "metadata": {},
   "outputs": [
    {
     "name": "stdout",
     "output_type": "stream",
     "text": [
      "['@ogustamlk', 'gu', 'obrigado', 'por', 'nos', 'avisar', 'sobre', 'isso', 'como', 'não', 'podemos', 'passar', 'informações', 'sobre', 'outros', 'clientes', 'poderia', 'nos', 'chamar', 'na', 'dm', 'precisamos', 'de', 'alguns', 'dados', 'que', 'estão', 'no', 'cartão', 'pra', 'agirmos', 'mais', 'rapidamente', '😉']\n"
     ]
    }
   ],
   "source": [
    "# Tweet a ser classificado\n",
    "print(lista_test[0])\n",
    "tweet = lista_test[0]"
   ]
  },
  {
   "cell_type": "code",
   "execution_count": 176,
   "metadata": {},
   "outputs": [
    {
     "name": "stdout",
     "output_type": "stream",
     "text": [
      "Probabilidade de ser relevante: 0.4029198758477986\n",
      "Probabilidade de ser irrelevante: 0.5970801241522014\n"
     ]
    }
   ],
   "source": [
    "# Probabilidade (Exercício 1 - Aula 08)\n",
    "Pr = len(lista_relevante)/len(total)\n",
    "Pi = len(lista_irrelevante)/len(total)\n",
    "print(\"Probabilidade de ser relevante: {0}\".format(len(lista_relevante)/len(total)))\n",
    "print(\"Probabilidade de ser irrelevante: {0}\".format(len(lista_irrelevante)/len(total)))"
   ]
  },
  {
   "cell_type": "code",
   "execution_count": 182,
   "metadata": {},
   "outputs": [
    {
     "name": "stdout",
     "output_type": "stream",
     "text": [
      "Acumulador relevante = 1.60361630284469e-45\n",
      "Acumulador irrelevante = 7.715817040950341e-06\n"
     ]
    }
   ],
   "source": [
    " # Usando o suavizador de Laplace\n",
    "acumulador_relevante = 1\n",
    "acumulador_irrelevante = 1\n",
    "for h in tweet:\n",
    "    \n",
    "    if h not in lista_relevante:\n",
    "        tabela_relevante_absoluta[h] = 0\n",
    "        \n",
    "    if h not in lista_irrelevante:\n",
    "        tabela_irrelevante_absoluta[h] = 0\n",
    "        \n",
    "    acumulador_relevante *= tabela_relevante_absoluta[h] + 1 / ( len(lista_relevante) + len(total) )\n",
    "    acumulador_irrelevante *= tabela_irrelevante_absoluta[h] + 1 / ( len(lista_irrelevante) + len(total) )  \n",
    "    \n",
    "print(\"Acumulador relevante = {0}\".format(acumulador_relevante))\n",
    "print(\"Acumulador irrelevante = {0}\".format(acumulador_irrelevante))"
   ]
  },
  {
   "cell_type": "code",
   "execution_count": 183,
   "metadata": {},
   "outputs": [
    {
     "name": "stdout",
     "output_type": "stream",
     "text": [
      "6.461288816496883e-46\n",
      "4.606960996746301e-06\n"
     ]
    }
   ],
   "source": [
    "# Probabilidade Final\n",
    "print(Pr*acumulador_relevante)\n",
    "print(Pi*acumulador_irrelevante)"
   ]
  },
  {
   "cell_type": "code",
   "execution_count": null,
   "metadata": {},
   "outputs": [],
   "source": [
    "# Como a segunda probabilidade é maior, o tweet tem uma maior probabilidade de ser irrelevante"
   ]
  },
  {
   "cell_type": "markdown",
   "metadata": {},
   "source": [
    "___\n",
    "### Concluindo"
   ]
  },
  {
   "cell_type": "code",
   "execution_count": null,
   "metadata": {},
   "outputs": [],
   "source": []
  },
  {
   "cell_type": "code",
   "execution_count": null,
   "metadata": {},
   "outputs": [],
   "source": []
  },
  {
   "cell_type": "code",
   "execution_count": null,
   "metadata": {},
   "outputs": [],
   "source": []
  },
  {
   "cell_type": "markdown",
   "metadata": {},
   "source": [
    "___\n",
    "### Qualidade do Classificador a partir de novas separações dos tweets entre Treinamento e Teste\n",
    "\n",
    "Caso for fazer esse item do Projeto"
   ]
  },
  {
   "cell_type": "code",
   "execution_count": null,
   "metadata": {},
   "outputs": [],
   "source": []
  },
  {
   "cell_type": "code",
   "execution_count": null,
   "metadata": {},
   "outputs": [],
   "source": []
  },
  {
   "cell_type": "code",
   "execution_count": null,
   "metadata": {},
   "outputs": [],
   "source": []
  },
  {
   "cell_type": "markdown",
   "metadata": {},
   "source": [
    "___\n",
    "## Aperfeiçoamento:\n",
    "\n",
    "Os trabalhos vão evoluir em conceito dependendo da quantidade de itens avançados:\n",
    "\n",
    "* Limpar: \\n, :, \", ', (, ), etc SEM remover emojis\n",
    "* Corrigir separação de espaços entre palavras e emojis ou entre emojis e emojis\n",
    "* Propor outras limpezas e transformações que não afetem a qualidade da informação ou classificação\n",
    "* Criar categorias intermediárias de relevância baseadas na probabilidade: ex.: muito relevante, relevante, neutro, irrelevante, muito irrelevante (3 categorias: C, mais categorias conta para B)\n",
    "* Explicar por que não posso usar o próprio classificador para gerar mais amostras de treinamento\n",
    "* Propor diferentes cenários para Naïve Bayes fora do contexto do projeto\n",
    "* Sugerir e explicar melhorias reais com indicações concretas de como implementar (indicar como fazer e indicar material de pesquisa)\n"
   ]
  },
  {
   "cell_type": "markdown",
   "metadata": {},
   "source": [
    "___\n",
    "## Referências"
   ]
  },
  {
   "cell_type": "markdown",
   "metadata": {},
   "source": [
    "[Naive Bayes and Text Classification](https://arxiv.org/pdf/1410.5329.pdf)  **Mais completo**\n",
    "\n",
    "[A practical explanation of a Naive Bayes Classifier](https://monkeylearn.com/blog/practical-explanation-naive-bayes-classifier/) **Mais simples**"
   ]
  },
  {
   "cell_type": "code",
   "execution_count": null,
   "metadata": {},
   "outputs": [],
   "source": []
  }
 ],
 "metadata": {
  "kernelspec": {
   "display_name": "Python 3",
   "language": "python",
   "name": "python3"
  },
  "language_info": {
   "codemirror_mode": {
    "name": "ipython",
    "version": 3
   },
   "file_extension": ".py",
   "mimetype": "text/x-python",
   "name": "python",
   "nbconvert_exporter": "python",
   "pygments_lexer": "ipython3",
   "version": "3.8.3"
  }
 },
 "nbformat": 4,
 "nbformat_minor": 4
}
